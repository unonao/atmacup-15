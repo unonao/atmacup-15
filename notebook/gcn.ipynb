{
 "cells": [
  {
   "cell_type": "code",
   "execution_count": 52,
   "id": "a5fd275c-5936-4972-bf08-49d008f87cac",
   "metadata": {
    "tags": []
   },
   "outputs": [
    {
     "name": "stdout",
     "output_type": "stream",
     "text": [
      "Collecting git+https://github.com/pyg-team/pytorch_geometric.git\n",
      "  Cloning https://github.com/pyg-team/pytorch_geometric.git to /tmp/pip-req-build-s47rh0ep\n",
      "  Running command git clone --filter=blob:none --quiet https://github.com/pyg-team/pytorch_geometric.git /tmp/pip-req-build-s47rh0ep\n",
      "  Resolved https://github.com/pyg-team/pytorch_geometric.git to commit 34890a592baa02ad250fe34fa66bbd53ced17801\n",
      "  Installing build dependencies ... \u001b[?25ldone\n",
      "\u001b[?25h  Getting requirements to build wheel ... \u001b[?25ldone\n",
      "\u001b[?25h  Preparing metadata (pyproject.toml) ... \u001b[?25ldone\n",
      "\u001b[?25hRequirement already satisfied: tqdm in /opt/conda/lib/python3.10/site-packages (from torch_geometric==2.4.0) (4.64.1)\n",
      "Requirement already satisfied: numpy in /opt/conda/lib/python3.10/site-packages (from torch_geometric==2.4.0) (1.23.5)\n",
      "Requirement already satisfied: scipy in /opt/conda/lib/python3.10/site-packages (from torch_geometric==2.4.0) (1.10.1)\n",
      "Requirement already satisfied: jinja2 in /opt/conda/lib/python3.10/site-packages (from torch_geometric==2.4.0) (3.1.2)\n",
      "Requirement already satisfied: requests in /opt/conda/lib/python3.10/site-packages (from torch_geometric==2.4.0) (2.29.0)\n",
      "Requirement already satisfied: pyparsing in /opt/conda/lib/python3.10/site-packages (from torch_geometric==2.4.0) (3.0.9)\n",
      "Requirement already satisfied: scikit-learn in /opt/conda/lib/python3.10/site-packages (from torch_geometric==2.4.0) (1.2.2)\n",
      "Requirement already satisfied: psutil>=5.8.0 in /opt/conda/lib/python3.10/site-packages (from torch_geometric==2.4.0) (5.9.3)\n",
      "Requirement already satisfied: MarkupSafe>=2.0 in /opt/conda/lib/python3.10/site-packages (from jinja2->torch_geometric==2.4.0) (2.1.2)\n",
      "Requirement already satisfied: charset-normalizer<4,>=2 in /opt/conda/lib/python3.10/site-packages (from requests->torch_geometric==2.4.0) (2.1.1)\n",
      "Requirement already satisfied: idna<4,>=2.5 in /opt/conda/lib/python3.10/site-packages (from requests->torch_geometric==2.4.0) (3.4)\n",
      "Requirement already satisfied: urllib3<1.27,>=1.21.1 in /opt/conda/lib/python3.10/site-packages (from requests->torch_geometric==2.4.0) (1.26.15)\n",
      "Requirement already satisfied: certifi>=2017.4.17 in /opt/conda/lib/python3.10/site-packages (from requests->torch_geometric==2.4.0) (2023.5.7)\n",
      "Requirement already satisfied: joblib>=1.1.1 in /opt/conda/lib/python3.10/site-packages (from scikit-learn->torch_geometric==2.4.0) (1.2.0)\n",
      "Requirement already satisfied: threadpoolctl>=2.0.0 in /opt/conda/lib/python3.10/site-packages (from scikit-learn->torch_geometric==2.4.0) (3.1.0)\n",
      "Building wheels for collected packages: torch_geometric\n",
      "  Building wheel for torch_geometric (pyproject.toml) ... \u001b[?25ldone\n",
      "\u001b[?25h  Created wheel for torch_geometric: filename=torch_geometric-2.4.0-py3-none-any.whl size=971850 sha256=5a2999279c9eeba07e6e9501be7cecd1244da99bec8e3b7b128c6894e2e21bee\n",
      "  Stored in directory: /tmp/pip-ephem-wheel-cache-zady3vhj/wheels/d3/78/eb/9e26525b948d19533f1688fb6c209cec8a0ba793d39b49ae8f\n",
      "Successfully built torch_geometric\n",
      "Installing collected packages: torch_geometric\n",
      "  Attempting uninstall: torch_geometric\n",
      "    Found existing installation: torch-geometric 2.3.1\n",
      "    Uninstalling torch-geometric-2.3.1:\n",
      "      Successfully uninstalled torch-geometric-2.3.1\n",
      "Successfully installed torch_geometric-2.4.0\n",
      "\u001b[33mWARNING: Running pip as the 'root' user can result in broken permissions and conflicting behaviour with the system package manager. It is recommended to use a virtual environment instead: https://pip.pypa.io/warnings/venv\u001b[0m\u001b[33m\n",
      "\u001b[0m"
     ]
    }
   ],
   "source": [
    "!pip install git+https://github.com/pyg-team/pytorch_geometric.git"
   ]
  },
  {
   "cell_type": "code",
   "execution_count": 65,
   "id": "8d801b87-0a25-4372-8c26-7866ea17488a",
   "metadata": {
    "tags": []
   },
   "outputs": [],
   "source": [
    "import os\n",
    "import pickle\n",
    "import random\n",
    "import shutil\n",
    "import sys\n",
    "import uuid\n",
    "from pathlib import Path\n",
    "\n",
    "import hydra\n",
    "import implicit\n",
    "import lightgbm as lgb\n",
    "import numpy as np\n",
    "import pandas as pd\n",
    "import torch\n",
    "import torch.nn as nn\n",
    "import wandb\n",
    "from hydra import compose, initialize\n",
    "from omegaconf import DictConfig, OmegaConf\n",
    "from scipy.sparse import csr_matrix, random\n",
    "from sklearn.metrics import mean_squared_error\n",
    "from sklearn.model_selection import StratifiedGroupKFold, StratifiedKFold\n",
    "from sklearn.preprocessing import LabelEncoder\n",
    "from torch.utils.data import DataLoader, Dataset\n",
    "from tqdm.auto import tqdm\n",
    "\n",
    "# 最大表示列数の指定（ここでは50列を指定）\n",
    "pd.set_option(\"display.max_columns\", 50)\n",
    "\n",
    "sys.path.append(os.pardir)\n",
    "from utils import evaluate_score, load_datasets, load_sample_sub, load_target\n",
    "from utils.embedding import TextEmbedder\n",
    "\n",
    "\n",
    "# 同様のランダムシード設定関数\n",
    "def seed_everything(seed=1234):\n",
    "    random.seed(seed)\n",
    "    os.environ[\"PYTHONHASHSEED\"] = str(seed)\n",
    "    np.random.seed(seed)\n",
    "    torch.manual_seed(seed)\n",
    "    torch.cuda.manual_seed(seed)\n",
    "    torch.backends.cudnn.deterministic = True\n",
    "\n",
    "\n",
    "with initialize(config_path=\"../yamls\", version_base=None):\n",
    "    config = compose(config_name=\"config.yaml\")"
   ]
  },
  {
   "cell_type": "code",
   "execution_count": 2,
   "id": "94872793-bbd5-4f1c-82fd-1664c51cf4ef",
   "metadata": {
    "tags": []
   },
   "outputs": [
    {
     "data": {
      "text/plain": [
       "'2.4.0'"
      ]
     },
     "execution_count": 2,
     "metadata": {},
     "output_type": "execute_result"
    }
   ],
   "source": [
    "import torch_geometric\n",
    "\n",
    "torch_geometric.__version__"
   ]
  },
  {
   "cell_type": "code",
   "execution_count": 3,
   "id": "b65ce7df-4858-48fd-9126-10ad7f2b2ff2",
   "metadata": {
    "tags": []
   },
   "outputs": [],
   "source": [
    "train_df = pd.read_csv(Path(config.input_path) / \"train.csv\")\n",
    "test_df = pd.read_csv(Path(config.input_path) / \"test.csv\")\n",
    "\n",
    "all_df = pd.concat([train_df[[\"user_id\", \"anime_id\"]], test_df[[\"user_id\", \"anime_id\"]]]).reset_index(drop=True)\n",
    "all_df[\"user_label\"], user_idx = pd.factorize(all_df[\"user_id\"])\n",
    "all_df[\"anime_label\"], anime_idx = pd.factorize(all_df[\"anime_id\"])\n",
    "all_df[\"is_train\"] = True\n",
    "all_df.loc[len(train_df) :, \"is_train\"] = False"
   ]
  },
  {
   "cell_type": "code",
   "execution_count": 4,
   "id": "a678d059-68b0-459c-b559-569254c019de",
   "metadata": {
    "tags": []
   },
   "outputs": [
    {
     "name": "stdout",
     "output_type": "stream",
     "text": [
      "tensor([[0, 0, 0, 0, 0, 0, 0, 0, 0, 0],\n",
      "        [0, 1, 2, 3, 4, 5, 6, 7, 8, 9]])\n"
     ]
    }
   ],
   "source": [
    "edge_index = torch.stack(\n",
    "    [torch.tensor(all_df[\"user_label\"].values), torch.tensor(all_df[\"anime_label\"].values)], dim=0\n",
    ")\n",
    "assert edge_index.shape == (2, len(all_df))\n",
    "print(edge_index[:, :10])"
   ]
  },
  {
   "cell_type": "code",
   "execution_count": 5,
   "id": "fa635b09-cfa0-4f11-a0b4-38749e3abbdc",
   "metadata": {
    "tags": []
   },
   "outputs": [],
   "source": [
    "X_train_all, X_test = load_datasets(config.gcn.feats)"
   ]
  },
  {
   "cell_type": "code",
   "execution_count": 6,
   "id": "5b88f6a6-1201-41f5-b2cc-5bbc9ed9807d",
   "metadata": {
    "tags": []
   },
   "outputs": [
    {
     "name": "stdout",
     "output_type": "stream",
     "text": [
      "(136401, 519)\n"
     ]
    }
   ],
   "source": [
    "print(X_train_all.shape)"
   ]
  },
  {
   "cell_type": "code",
   "execution_count": 52,
   "id": "4283a554-1841-4f58-8c47-11b3661bff00",
   "metadata": {
    "tags": []
   },
   "outputs": [],
   "source": [
    "from cuml.preprocessing import StandardScaler\n",
    "\n",
    "features_df = pd.concat([X_train_all, X_test]).reset_index(drop=True)\n",
    "features_df[\"user_label\"] = all_df[\"user_label\"]\n",
    "user_features = features_df.groupby(\"user_label\").mean().to_numpy()\n",
    "scaler = StandardScaler()\n",
    "scaled_user_features = np.nan_to_num(scaler.fit_transform(user_features), 0)  # nan をzero埋め\n",
    "\n",
    "\n",
    "features_df = pd.concat([X_train_all, X_test]).reset_index(drop=True)\n",
    "features_df[\"anime_label\"] = all_df[\"anime_label\"]\n",
    "anime_features = features_df.groupby(\"anime_label\").mean().to_numpy()\n",
    "scaler = StandardScaler()\n",
    "scaled_anime_features = np.nan_to_num(scaler.fit_transform(anime_features), 0)"
   ]
  },
  {
   "cell_type": "code",
   "execution_count": 54,
   "id": "52792c5c-6be7-4cad-9158-d073940a0b89",
   "metadata": {
    "tags": []
   },
   "outputs": [
    {
     "data": {
      "text/plain": [
       "0"
      ]
     },
     "execution_count": 54,
     "metadata": {},
     "output_type": "execute_result"
    }
   ],
   "source": [
    "np.isnan(scaled_user_features).sum()"
   ]
  },
  {
   "cell_type": "code",
   "execution_count": 55,
   "id": "e8263e8e-5b1a-45ba-9bdc-f5a4587ca1d1",
   "metadata": {
    "tags": []
   },
   "outputs": [],
   "source": [
    "import torch_geometric.transforms as T\n",
    "from torch_geometric.data import HeteroData\n",
    "\n",
    "# Create the heterogeneous graph data object:\n",
    "data = HeteroData()\n",
    "\n",
    "\n",
    "# Add the user nodes:\n",
    "data[\"user\"].x = torch.from_numpy(scaled_user_features).to(torch.float)\n",
    "\n",
    "# Add the movie nodes:\n",
    "data[\"anime\"].x = torch.from_numpy(scaled_anime_features).to(torch.float)\n",
    "\n",
    "# Add the rating edges:\n",
    "data[\"user\", \"score\", \"anime\"].edge_index = edge_index\n",
    "\n",
    "# テストの部分は np.nan　で埋めておく\n",
    "all_df[\"score\"] = np.nan\n",
    "all_df.loc[: len(train_df), \"score\"] = train_df[\"score\"]\n",
    "score = torch.from_numpy(all_df[\"score\"].values).to(torch.float)\n",
    "data[\"user\", \"score\", \"anime\"].edge_label = score\n",
    "\n",
    "data = T.ToUndirected()(data)\n",
    "\n",
    "del data[\"anime\", \"rev_score\", \"user\"].edge_label"
   ]
  },
  {
   "cell_type": "code",
   "execution_count": 56,
   "id": "70c8b0b1-eb43-4543-ad9c-153234b7d1fc",
   "metadata": {
    "tags": []
   },
   "outputs": [
    {
     "data": {
      "text/plain": [
       "HeteroData(\n",
       "  user={ x=[1998, 519] },\n",
       "  anime={ x=[1956, 519] },\n",
       "  (user, score, anime)={\n",
       "    edge_index=[2, 254077],\n",
       "    edge_label=[254077],\n",
       "  },\n",
       "  (anime, rev_score, user)={ edge_index=[2, 254077] }\n",
       ")"
      ]
     },
     "execution_count": 56,
     "metadata": {},
     "output_type": "execute_result"
    }
   ],
   "source": [
    "data"
   ]
  },
  {
   "cell_type": "code",
   "execution_count": 57,
   "id": "69868511-611c-4b0d-8416-5a2a39145aad",
   "metadata": {
    "tags": []
   },
   "outputs": [
    {
     "data": {
      "text/plain": [
       "(['user', 'anime'],\n",
       " [('user', 'score', 'anime'), ('anime', 'rev_score', 'user')])"
      ]
     },
     "execution_count": 57,
     "metadata": {},
     "output_type": "execute_result"
    }
   ],
   "source": [
    "data.metadata()"
   ]
  },
  {
   "cell_type": "code",
   "execution_count": 58,
   "id": "01636d6d-0aa5-423b-92ff-33254a24842b",
   "metadata": {
    "tags": []
   },
   "outputs": [],
   "source": [
    "device = torch.device(\"cuda\" if torch.cuda.is_available() else \"cpu\")\n",
    "\n",
    "model = Model(hidden_channels=config.gcn.hidden_channels, num_layers=config.gcn.num_layers).to(device)"
   ]
  },
  {
   "cell_type": "code",
   "execution_count": 59,
   "id": "4a4b4271-a7de-44fe-8c36-b0f2d9ee8bda",
   "metadata": {
    "tags": []
   },
   "outputs": [],
   "source": [
    "def k_fold(num_fold, edge_index):\n",
    "    skf = StratifiedKFold(num_fold, shuffle=True, random_state=12345)\n",
    "    train_len = all_df[\"is_train\"].sum()\n",
    "    train_indices, val_indices, test_indices = [], [], []\n",
    "    for _, idx in skf.split(torch.zeros(train_len), all_df.iloc[:train_len][\"user_id\"]):\n",
    "        val_indices.append(torch.from_numpy(idx).to(torch.long))\n",
    "        test_indices.append(torch.tensor(range(train_len, len(all_df))).to(torch.long))\n",
    "\n",
    "    for i in range(num_fold):\n",
    "        train_mask = torch.ones(train_len, dtype=torch.bool)\n",
    "        train_mask[val_indices[i]] = 0\n",
    "        train_indices.append(train_mask.nonzero(as_tuple=False).view(-1))\n",
    "\n",
    "    return train_indices, val_indices, test_indices"
   ]
  },
  {
   "cell_type": "code",
   "execution_count": 60,
   "id": "5b74404b-688b-478b-9e74-d864f3550481",
   "metadata": {
    "tags": []
   },
   "outputs": [],
   "source": [
    "output_path = Path(f\".\")\n",
    "os.makedirs(output_path, exist_ok=True)"
   ]
  },
  {
   "cell_type": "code",
   "execution_count": 67,
   "id": "8dfb70ea-8a34-44be-a268-3cbaf1cc0b86",
   "metadata": {
    "tags": []
   },
   "outputs": [
    {
     "name": "stderr",
     "output_type": "stream",
     "text": [
      "/opt/conda/lib/python3.10/site-packages/sklearn/model_selection/_split.py:700: UserWarning: The least populated class in y has only 1 members, which is less than n_splits=5.\n",
      "  warnings.warn(\n"
     ]
    },
    {
     "data": {
      "application/vnd.jupyter.widget-view+json": {
       "model_id": "d6de58fb9a204fcaaffa4ae83b8af967",
       "version_major": 2,
       "version_minor": 0
      },
      "text/plain": [
       "Fold-1:   0%|          | 0/1000 [00:00<?, ?it/s]"
      ]
     },
     "metadata": {},
     "output_type": "display_data"
    },
    {
     "name": "stdout",
     "output_type": "stream",
     "text": [
      "Epoch: 0, Loss: 1.133927822113037, Val Loss: 5.854353427886963\n",
      "Epoch: 20, Loss: 1.4798604249954224, Val Loss: 1.3904088735580444\n",
      "Epoch: 40, Loss: 1.2671153545379639, Val Loss: 1.27997887134552\n",
      "Epoch: 60, Loss: 1.2213834524154663, Val Loss: 1.2445217370986938\n",
      "Epoch: 80, Loss: 1.194065809249878, Val Loss: 1.2212308645248413\n",
      "Epoch: 100, Loss: 1.1778390407562256, Val Loss: 1.2109402418136597\n",
      "Epoch: 120, Loss: 1.1679613590240479, Val Loss: 1.2047228813171387\n",
      "Epoch: 140, Loss: 1.160181999206543, Val Loss: 1.1991915702819824\n",
      "Epoch: 160, Loss: 1.1547129154205322, Val Loss: 1.196568250656128\n",
      "Epoch: 180, Loss: 1.150547981262207, Val Loss: 1.1943985223770142\n",
      "Epoch: 200, Loss: 1.1478009223937988, Val Loss: 1.1923835277557373\n",
      "Epoch: 220, Loss: 1.1478805541992188, Val Loss: 1.1952391862869263\n",
      "Epoch: 240, Loss: 1.1430586576461792, Val Loss: 1.1924833059310913\n",
      "Epoch: 260, Loss: 1.1420588493347168, Val Loss: 1.1891766786575317\n",
      "Epoch: 280, Loss: 1.144120693206787, Val Loss: 1.1925688982009888\n"
     ]
    },
    {
     "data": {
      "application/vnd.jupyter.widget-view+json": {
       "model_id": "b1e74a2a6d094e6892b64c73fd657c2d",
       "version_major": 2,
       "version_minor": 0
      },
      "text/plain": [
       "Fold-2:   0%|          | 0/1000 [00:00<?, ?it/s]"
      ]
     },
     "metadata": {},
     "output_type": "display_data"
    },
    {
     "name": "stdout",
     "output_type": "stream",
     "text": [
      "Epoch: 0, Loss: 1.1521456241607666, Val Loss: 3.89753794670105\n",
      "Epoch: 20, Loss: 1.3169132471084595, Val Loss: 1.2840243577957153\n",
      "Epoch: 40, Loss: 1.2092763185501099, Val Loss: 1.204483151435852\n",
      "Epoch: 60, Loss: 1.167975902557373, Val Loss: 1.1736878156661987\n",
      "Epoch: 80, Loss: 1.154362440109253, Val Loss: 1.165607213973999\n",
      "Epoch: 100, Loss: 1.1480064392089844, Val Loss: 1.1631919145584106\n",
      "Epoch: 120, Loss: 1.146430492401123, Val Loss: 1.162269949913025\n",
      "Epoch: 140, Loss: 1.1465705633163452, Val Loss: 1.1622613668441772\n",
      "Epoch: 160, Loss: 1.141716480255127, Val Loss: 1.1624072790145874\n"
     ]
    },
    {
     "data": {
      "application/vnd.jupyter.widget-view+json": {
       "model_id": "87705e7e6fab413ca87b9b7e629be548",
       "version_major": 2,
       "version_minor": 0
      },
      "text/plain": [
       "Fold-3:   0%|          | 0/1000 [00:00<?, ?it/s]"
      ]
     },
     "metadata": {},
     "output_type": "display_data"
    },
    {
     "name": "stdout",
     "output_type": "stream",
     "text": [
      "Epoch: 0, Loss: 1.1461641788482666, Val Loss: 5.119396686553955\n",
      "Epoch: 20, Loss: 1.3336976766586304, Val Loss: 1.3535492420196533\n",
      "Epoch: 40, Loss: 1.2021257877349854, Val Loss: 1.2157375812530518\n",
      "Epoch: 60, Loss: 1.1639727354049683, Val Loss: 1.185653567314148\n",
      "Epoch: 80, Loss: 1.15152108669281, Val Loss: 1.1779953241348267\n",
      "Epoch: 100, Loss: 1.1455453634262085, Val Loss: 1.1760491132736206\n",
      "Epoch: 120, Loss: 1.141641616821289, Val Loss: 1.1754652261734009\n",
      "Epoch: 140, Loss: 1.1386972665786743, Val Loss: 1.1758793592453003\n"
     ]
    },
    {
     "data": {
      "application/vnd.jupyter.widget-view+json": {
       "model_id": "8202529ac5ba4ceea64ad2c1b90e6f0d",
       "version_major": 2,
       "version_minor": 0
      },
      "text/plain": [
       "Fold-4:   0%|          | 0/1000 [00:00<?, ?it/s]"
      ]
     },
     "metadata": {},
     "output_type": "display_data"
    },
    {
     "name": "stdout",
     "output_type": "stream",
     "text": [
      "Epoch: 0, Loss: 1.1494193077087402, Val Loss: 2.873525381088257\n",
      "Epoch: 20, Loss: 1.2010442018508911, Val Loss: 1.2054545879364014\n",
      "Epoch: 40, Loss: 1.1559453010559082, Val Loss: 1.1673192977905273\n",
      "Epoch: 60, Loss: 1.1423505544662476, Val Loss: 1.1643275022506714\n",
      "Epoch: 80, Loss: 1.137851357460022, Val Loss: 1.1647635698318481\n"
     ]
    },
    {
     "data": {
      "application/vnd.jupyter.widget-view+json": {
       "model_id": "44ce0c584b9347fa86d8b6029685446f",
       "version_major": 2,
       "version_minor": 0
      },
      "text/plain": [
       "Fold-5:   0%|          | 0/1000 [00:00<?, ?it/s]"
      ]
     },
     "metadata": {},
     "output_type": "display_data"
    },
    {
     "name": "stdout",
     "output_type": "stream",
     "text": [
      "Epoch: 0, Loss: 1.148833155632019, Val Loss: 3.493307590484619\n",
      "Epoch: 20, Loss: 1.3104339838027954, Val Loss: 1.240037202835083\n",
      "Epoch: 40, Loss: 1.1991591453552246, Val Loss: 1.2028836011886597\n",
      "Epoch: 60, Loss: 1.1729265451431274, Val Loss: 1.1754369735717773\n",
      "Epoch: 80, Loss: 1.1630562543869019, Val Loss: 1.1700106859207153\n",
      "Epoch: 100, Loss: 1.156399130821228, Val Loss: 1.1664741039276123\n",
      "Epoch: 120, Loss: 1.149576187133789, Val Loss: 1.1639355421066284\n",
      "Epoch: 140, Loss: 1.144642949104309, Val Loss: 1.162463903427124\n",
      "Epoch: 160, Loss: 1.1416550874710083, Val Loss: 1.1619398593902588\n",
      "Epoch: 180, Loss: 1.139359712600708, Val Loss: 1.1617732048034668\n",
      "Epoch: 200, Loss: 1.1373257637023926, Val Loss: 1.161936640739441\n"
     ]
    }
   ],
   "source": [
    "import torch.nn.functional as F\n",
    "\n",
    "data = data.to(device)\n",
    "\n",
    "oof_pred = np.zeros(len(train_df))\n",
    "test_preds = []\n",
    "\n",
    "for fold, (train_idx, val_idx, test_idx) in enumerate(zip(*k_fold(config.train.num_folds, all_df))):\n",
    "    optimizer = torch.optim.Adam(model.parameters(), lr=config.train.lr)\n",
    "    best_val_loss = float(\"inf\")\n",
    "    early_stopping_counter = 0\n",
    "\n",
    "    for epoch in tqdm(range(config.gcn.num_epochs if config.debug is False else 6), desc=f\"Fold-{fold+1}\"):\n",
    "        # train\n",
    "        model.train()\n",
    "        optimizer.zero_grad()\n",
    "\n",
    "        pred = model(\n",
    "            data.x_dict,\n",
    "            data.edge_index_dict,\n",
    "            data[\"user\", \"anime\"].edge_index[:, train_idx],\n",
    "        )\n",
    "        target = data[\"user\", \"anime\"].edge_label[train_idx]\n",
    "        loss = F.mse_loss(pred, target).sqrt()\n",
    "        optimizer.zero_grad()\n",
    "        loss.backward()\n",
    "        optimizer.step()\n",
    "\n",
    "        # validation\n",
    "        with torch.no_grad():\n",
    "            pred = model(\n",
    "                data.x_dict,\n",
    "                data.edge_index_dict,\n",
    "                data[\"user\", \"anime\"].edge_index[:, val_idx],\n",
    "            )\n",
    "            target = data[\"user\", \"anime\"].edge_label[val_idx]\n",
    "            val_loss = F.mse_loss(pred, target).sqrt()\n",
    "\n",
    "        # wandb.log({\"epoch\": epoch, f\"loss/train/fold-{fold}\": loss.item(), f\"loss/valid/fold-{fold}\": val_loss.item()})\n",
    "        if epoch % config.train.early_stopping == 0:\n",
    "            tqdm.write(f\"Epoch: {epoch}, Loss: {loss.item()}, Val Loss: {val_loss.item()}\")\n",
    "\n",
    "        # early stopping\n",
    "        if val_loss < best_val_loss:\n",
    "            best_val_loss = val_loss\n",
    "            torch.save(model.state_dict(), output_path / f\"model_best_{fold}.pt\")\n",
    "            early_stopping_counter = 0\n",
    "        else:\n",
    "            early_stopping_counter += 1\n",
    "            if early_stopping_counter >= config.train.early_stopping:\n",
    "                model.load_state_dict(torch.load(output_path / f\"model_best_{fold}.pt\"))\n",
    "                break\n",
    "\n",
    "    # testing\n",
    "    with torch.no_grad():\n",
    "        oof_pred[val_idx.cpu().detach().numpy()] = (\n",
    "            model(\n",
    "                data.x_dict,\n",
    "                data.edge_index_dict,\n",
    "                data[\"user\", \"anime\"].edge_index[:, val_idx],\n",
    "            )\n",
    "            .cpu()\n",
    "            .detach()\n",
    "            .numpy()\n",
    "        )\n",
    "        test_pred = (\n",
    "            model(\n",
    "                data.x_dict,\n",
    "                data.edge_index_dict,\n",
    "                data[\"user\", \"anime\"].edge_index[:, test_idx],\n",
    "            )\n",
    "            .cpu()\n",
    "            .detach()\n",
    "            .numpy()\n",
    "        )\n",
    "        test_preds.append(test_pred)"
   ]
  },
  {
   "cell_type": "code",
   "execution_count": 70,
   "id": "7e8bf324-f805-4276-8b44-f2ecb97d66ce",
   "metadata": {
    "tags": []
   },
   "outputs": [
    {
     "name": "stdout",
     "output_type": "stream",
     "text": [
      "{'oof_rmse': 1.1691676942799851}\n"
     ]
    },
    {
     "ename": "NameError",
     "evalue": "name 'sub' is not defined",
     "output_type": "error",
     "traceback": [
      "\u001b[0;31m---------------------------------------------------------------------------\u001b[0m",
      "\u001b[0;31mNameError\u001b[0m                                 Traceback (most recent call last)",
      "Cell \u001b[0;32mIn[70], line 12\u001b[0m\n\u001b[1;32m      9\u001b[0m \u001b[38;5;28mprint\u001b[39m({\u001b[38;5;124m\"\u001b[39m\u001b[38;5;124moof_rmse\u001b[39m\u001b[38;5;124m\"\u001b[39m: oof_rmse})\n\u001b[1;32m     10\u001b[0m \u001b[38;5;66;03m# wandb.finish()\u001b[39;00m\n\u001b[0;32m---> 12\u001b[0m \u001b[43msub\u001b[49m[\u001b[38;5;124m\"\u001b[39m\u001b[38;5;124mscore\u001b[39m\u001b[38;5;124m\"\u001b[39m] \u001b[38;5;241m=\u001b[39m mean_test_preds\n\u001b[1;32m     14\u001b[0m sub\u001b[38;5;241m.\u001b[39mto_csv(output_path \u001b[38;5;241m/\u001b[39m \u001b[38;5;124m\"\u001b[39m\u001b[38;5;124msub.csv\u001b[39m\u001b[38;5;124m\"\u001b[39m, index\u001b[38;5;241m=\u001b[39m\u001b[38;5;28;01mFalse\u001b[39;00m)\n\u001b[1;32m     16\u001b[0m oof_df \u001b[38;5;241m=\u001b[39m pd\u001b[38;5;241m.\u001b[39mDataFrame({\u001b[38;5;124m\"\u001b[39m\u001b[38;5;124mscore\u001b[39m\u001b[38;5;124m\"\u001b[39m: oof_pred})\n",
      "\u001b[0;31mNameError\u001b[0m: name 'sub' is not defined"
     ]
    }
   ],
   "source": [
    "# calculate mean of predictions across all folds\n",
    "mean_test_preds = np.mean(test_preds, axis=0)\n",
    "# clip\n",
    "oof_pred = np.clip(oof_pred, 1.0, 10.0)\n",
    "mean_test_preds = np.clip(mean_test_preds, 1.0, 10.0)\n",
    "# calculate RMSE for oof predictions\n",
    "oof_rmse = mean_squared_error(train_df[\"score\"], oof_pred, squared=False)\n",
    "# wandb.log({\"oof_rmse\": oof_rmse})\n",
    "print({\"oof_rmse\": oof_rmse})\n",
    "# wandb.finish()\n",
    "\n",
    "sample_submission_df[\"score\"] = mean_test_preds\n",
    "\n",
    "sample_submission_df.to_csv(output_path / \"sub.csv\", index=False)\n",
    "\n",
    "oof_df = pd.DataFrame({\"score\": oof_pred})\n",
    "oof_df.to_csv(output_path / \"oof.csv\", index=False)\n",
    "\n",
    "if config.debug:\n",
    "    shutil.rmtree(output_path)"
   ]
  },
  {
   "cell_type": "code",
   "execution_count": 72,
   "id": "616db01b-eb8c-471f-a546-cd5641a1f0f4",
   "metadata": {
    "tags": []
   },
   "outputs": [
    {
     "data": {
      "text/plain": [
       "117676"
      ]
     },
     "execution_count": 72,
     "metadata": {},
     "output_type": "execute_result"
    }
   ],
   "source": [
    "len(mean_test_preds)"
   ]
  },
  {
   "cell_type": "code",
   "execution_count": null,
   "id": "cd269007-4e23-4196-9e8d-a18fe095111e",
   "metadata": {},
   "outputs": [],
   "source": []
  }
 ],
 "metadata": {
  "kernelspec": {
   "display_name": "Python 3 (ipykernel)",
   "language": "python",
   "name": "python3"
  },
  "language_info": {
   "codemirror_mode": {
    "name": "ipython",
    "version": 3
   },
   "file_extension": ".py",
   "mimetype": "text/x-python",
   "name": "python",
   "nbconvert_exporter": "python",
   "pygments_lexer": "ipython3",
   "version": "3.10.10"
  }
 },
 "nbformat": 4,
 "nbformat_minor": 5
}
