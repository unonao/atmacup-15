{
 "cells": [
  {
   "cell_type": "code",
   "execution_count": 1,
   "id": "d113a29b-fafd-4c86-8140-414c9506a2c9",
   "metadata": {
    "tags": []
   },
   "outputs": [],
   "source": [
    "import os\n",
    "import random\n",
    "import sys\n",
    "import uuid\n",
    "from pathlib import Path\n",
    "\n",
    "import numpy as np\n",
    "import pandas as pd\n",
    "import torch\n",
    "import torch_geometric\n",
    "import wandb\n",
    "from torch_geometric.data import Data"
   ]
  },
  {
   "cell_type": "code",
   "execution_count": 2,
   "id": "a133eba2-062a-4c56-9cc5-02cf2493a5d9",
   "metadata": {
    "tags": []
   },
   "outputs": [
    {
     "data": {
      "text/plain": [
       "{'debug': True, 'input_path': '../input/atmaCup15_dataset', 'seed': 7, 'train': {'lr': 0.01, 'embedding_dim': 128, 'num_layers': 3, 'num_folds': 5, 'num_epochs': 1000, 'early_stopping': 20}}"
      ]
     },
     "execution_count": 2,
     "metadata": {},
     "output_type": "execute_result"
    }
   ],
   "source": [
    "from hydra import compose, initialize\n",
    "\n",
    "with initialize(config_path=\"../yamls\", version_base=None):\n",
    "    config = compose(config_name=\"config.yaml\")\n",
    "\n",
    "\n",
    "def seed_everything(seed=1234):\n",
    "    random.seed(seed)\n",
    "    os.environ[\"PYTHONHASHSEED\"] = str(seed)\n",
    "    np.random.seed(seed)\n",
    "    torch.manual_seed(seed)\n",
    "    torch.cuda.manual_seed(seed)\n",
    "    torch.backends.cudnn.deterministic = True\n",
    "\n",
    "\n",
    "device = \"cuda\" if torch.cuda.is_available() else \"cpu\"\n",
    "seed_everything(config.seed)\n",
    "config"
   ]
  },
  {
   "cell_type": "code",
   "execution_count": 3,
   "id": "a5587be4-4908-4179-be9b-ffb3c57091f2",
   "metadata": {
    "tags": []
   },
   "outputs": [],
   "source": [
    "train_df = pd.read_csv(Path(config.input_path) / \"train.csv\")\n",
    "test_df = pd.read_csv(Path(config.input_path) / \"test.csv\")\n",
    "\n",
    "sample_submission_df = pd.read_csv(Path(config.input_path) / \"sample_submission.csv\")\n",
    "anime_df = pd.read_csv(Path(config.input_path) / \"anime.csv\")"
   ]
  },
  {
   "cell_type": "code",
   "execution_count": 4,
   "id": "0babed03-c82d-493c-b38e-b90657c19893",
   "metadata": {
    "tags": []
   },
   "outputs": [
    {
     "data": {
      "text/html": [
       "<div>\n",
       "<style scoped>\n",
       "    .dataframe tbody tr th:only-of-type {\n",
       "        vertical-align: middle;\n",
       "    }\n",
       "\n",
       "    .dataframe tbody tr th {\n",
       "        vertical-align: top;\n",
       "    }\n",
       "\n",
       "    .dataframe thead th {\n",
       "        text-align: right;\n",
       "    }\n",
       "</style>\n",
       "<table border=\"1\" class=\"dataframe\">\n",
       "  <thead>\n",
       "    <tr style=\"text-align: right;\">\n",
       "      <th></th>\n",
       "      <th>user_id</th>\n",
       "      <th>anime_id</th>\n",
       "      <th>score</th>\n",
       "    </tr>\n",
       "  </thead>\n",
       "  <tbody>\n",
       "    <tr>\n",
       "      <th>0</th>\n",
       "      <td>0008e10fb39e55447333</td>\n",
       "      <td>0669cc0219d468761195</td>\n",
       "      <td>2</td>\n",
       "    </tr>\n",
       "    <tr>\n",
       "      <th>1</th>\n",
       "      <td>0008e10fb39e55447333</td>\n",
       "      <td>111adb8835b8a1a2cf54</td>\n",
       "      <td>10</td>\n",
       "    </tr>\n",
       "    <tr>\n",
       "      <th>2</th>\n",
       "      <td>0008e10fb39e55447333</td>\n",
       "      <td>1fc8683c393432a2f9c7</td>\n",
       "      <td>1</td>\n",
       "    </tr>\n",
       "    <tr>\n",
       "      <th>3</th>\n",
       "      <td>0008e10fb39e55447333</td>\n",
       "      <td>2290175205d55e81b197</td>\n",
       "      <td>8</td>\n",
       "    </tr>\n",
       "    <tr>\n",
       "      <th>4</th>\n",
       "      <td>0008e10fb39e55447333</td>\n",
       "      <td>28f173b60331d5cabb0d</td>\n",
       "      <td>9</td>\n",
       "    </tr>\n",
       "  </tbody>\n",
       "</table>\n",
       "</div>"
      ],
      "text/plain": [
       "                user_id              anime_id  score\n",
       "0  0008e10fb39e55447333  0669cc0219d468761195      2\n",
       "1  0008e10fb39e55447333  111adb8835b8a1a2cf54     10\n",
       "2  0008e10fb39e55447333  1fc8683c393432a2f9c7      1\n",
       "3  0008e10fb39e55447333  2290175205d55e81b197      8\n",
       "4  0008e10fb39e55447333  28f173b60331d5cabb0d      9"
      ]
     },
     "execution_count": 4,
     "metadata": {},
     "output_type": "execute_result"
    }
   ],
   "source": [
    "train_df.head()"
   ]
  },
  {
   "cell_type": "code",
   "execution_count": 5,
   "id": "53e60c7e-1991-4354-bed5-c5325f26db7f",
   "metadata": {
    "tags": []
   },
   "outputs": [
    {
     "data": {
      "text/html": [
       "<div>\n",
       "<style scoped>\n",
       "    .dataframe tbody tr th:only-of-type {\n",
       "        vertical-align: middle;\n",
       "    }\n",
       "\n",
       "    .dataframe tbody tr th {\n",
       "        vertical-align: top;\n",
       "    }\n",
       "\n",
       "    .dataframe thead th {\n",
       "        text-align: right;\n",
       "    }\n",
       "</style>\n",
       "<table border=\"1\" class=\"dataframe\">\n",
       "  <thead>\n",
       "    <tr style=\"text-align: right;\">\n",
       "      <th></th>\n",
       "      <th>user_id</th>\n",
       "      <th>anime_id</th>\n",
       "    </tr>\n",
       "  </thead>\n",
       "  <tbody>\n",
       "    <tr>\n",
       "      <th>0</th>\n",
       "      <td>0008e10fb39e55447333</td>\n",
       "      <td>04068820a73e52dc3b32</td>\n",
       "    </tr>\n",
       "    <tr>\n",
       "      <th>1</th>\n",
       "      <td>0008e10fb39e55447333</td>\n",
       "      <td>04a3d0b122b24965e909</td>\n",
       "    </tr>\n",
       "    <tr>\n",
       "      <th>2</th>\n",
       "      <td>0008e10fb39e55447333</td>\n",
       "      <td>1447fe1f10b59912d6a8</td>\n",
       "    </tr>\n",
       "    <tr>\n",
       "      <th>3</th>\n",
       "      <td>0008e10fb39e55447333</td>\n",
       "      <td>2622632598c68682afd5</td>\n",
       "    </tr>\n",
       "    <tr>\n",
       "      <th>4</th>\n",
       "      <td>0008e10fb39e55447333</td>\n",
       "      <td>2701850c7216516fec46</td>\n",
       "    </tr>\n",
       "  </tbody>\n",
       "</table>\n",
       "</div>"
      ],
      "text/plain": [
       "                user_id              anime_id\n",
       "0  0008e10fb39e55447333  04068820a73e52dc3b32\n",
       "1  0008e10fb39e55447333  04a3d0b122b24965e909\n",
       "2  0008e10fb39e55447333  1447fe1f10b59912d6a8\n",
       "3  0008e10fb39e55447333  2622632598c68682afd5\n",
       "4  0008e10fb39e55447333  2701850c7216516fec46"
      ]
     },
     "execution_count": 5,
     "metadata": {},
     "output_type": "execute_result"
    }
   ],
   "source": [
    "test_df.head()"
   ]
  },
  {
   "cell_type": "code",
   "execution_count": 6,
   "id": "04df9ea4-3364-468c-89fc-a682a3b3b668",
   "metadata": {
    "tags": []
   },
   "outputs": [
    {
     "data": {
      "text/html": [
       "<div>\n",
       "<style scoped>\n",
       "    .dataframe tbody tr th:only-of-type {\n",
       "        vertical-align: middle;\n",
       "    }\n",
       "\n",
       "    .dataframe tbody tr th {\n",
       "        vertical-align: top;\n",
       "    }\n",
       "\n",
       "    .dataframe thead th {\n",
       "        text-align: right;\n",
       "    }\n",
       "</style>\n",
       "<table border=\"1\" class=\"dataframe\">\n",
       "  <thead>\n",
       "    <tr style=\"text-align: right;\">\n",
       "      <th></th>\n",
       "      <th>user_id</th>\n",
       "      <th>anime_id</th>\n",
       "      <th>user_label</th>\n",
       "      <th>anime_label</th>\n",
       "      <th>is_train</th>\n",
       "    </tr>\n",
       "  </thead>\n",
       "  <tbody>\n",
       "    <tr>\n",
       "      <th>254072</th>\n",
       "      <td>ffe85a36cd20500faa58</td>\n",
       "      <td>f508b02efeac8ecb8cc0</td>\n",
       "      <td>1997</td>\n",
       "      <td>2184</td>\n",
       "      <td>False</td>\n",
       "    </tr>\n",
       "    <tr>\n",
       "      <th>254073</th>\n",
       "      <td>ffe85a36cd20500faa58</td>\n",
       "      <td>f5b8ecea3beea4b82d79</td>\n",
       "      <td>1997</td>\n",
       "      <td>3296</td>\n",
       "      <td>False</td>\n",
       "    </tr>\n",
       "    <tr>\n",
       "      <th>254074</th>\n",
       "      <td>ffe85a36cd20500faa58</td>\n",
       "      <td>f6c208226b6b69948053</td>\n",
       "      <td>1997</td>\n",
       "      <td>2427</td>\n",
       "      <td>False</td>\n",
       "    </tr>\n",
       "    <tr>\n",
       "      <th>254075</th>\n",
       "      <td>ffe85a36cd20500faa58</td>\n",
       "      <td>fe67592c312fc1e17745</td>\n",
       "      <td>1997</td>\n",
       "      <td>3380</td>\n",
       "      <td>False</td>\n",
       "    </tr>\n",
       "    <tr>\n",
       "      <th>254076</th>\n",
       "      <td>ffe85a36cd20500faa58</td>\n",
       "      <td>ff73475b68001c5e533d</td>\n",
       "      <td>1997</td>\n",
       "      <td>3900</td>\n",
       "      <td>False</td>\n",
       "    </tr>\n",
       "  </tbody>\n",
       "</table>\n",
       "</div>"
      ],
      "text/plain": [
       "                     user_id              anime_id  user_label  anime_label  \\\n",
       "254072  ffe85a36cd20500faa58  f508b02efeac8ecb8cc0        1997         2184   \n",
       "254073  ffe85a36cd20500faa58  f5b8ecea3beea4b82d79        1997         3296   \n",
       "254074  ffe85a36cd20500faa58  f6c208226b6b69948053        1997         2427   \n",
       "254075  ffe85a36cd20500faa58  fe67592c312fc1e17745        1997         3380   \n",
       "254076  ffe85a36cd20500faa58  ff73475b68001c5e533d        1997         3900   \n",
       "\n",
       "        is_train  \n",
       "254072     False  \n",
       "254073     False  \n",
       "254074     False  \n",
       "254075     False  \n",
       "254076     False  "
      ]
     },
     "execution_count": 6,
     "metadata": {},
     "output_type": "execute_result"
    }
   ],
   "source": [
    "all_df = pd.concat([train_df[[\"user_id\", \"anime_id\"]], test_df[[\"user_id\", \"anime_id\"]]]).reset_index(drop=True)\n",
    "all_df[\"user_label\"], user_idx = pd.factorize(all_df[\"user_id\"])\n",
    "all_df[\"anime_label\"], anime_idx = pd.factorize(all_df[\"anime_id\"])\n",
    "all_df[\"is_train\"] = True\n",
    "all_df.loc[len(train_df) :, \"is_train\"] = False\n",
    "# userとanimeの番号が別になるようにずらす\n",
    "all_df[\"anime_label\"] += len(user_idx)\n",
    "num_nodes = len(user_idx) + len(anime_idx)\n",
    "\n",
    "all_df.tail()"
   ]
  },
  {
   "cell_type": "code",
   "execution_count": 7,
   "id": "5c4214e9-cd45-4c40-99ac-ddba37624ee4",
   "metadata": {
    "tags": []
   },
   "outputs": [
    {
     "data": {
      "text/plain": [
       "Data(edge_index=[2, 254077], num_nodes=3954, edge_weight=[254077])"
      ]
     },
     "execution_count": 7,
     "metadata": {},
     "output_type": "execute_result"
    }
   ],
   "source": [
    "edges = all_df[[\"user_label\", \"anime_label\"]].to_numpy()\n",
    "edge_index = torch.tensor(edges.T, dtype=torch.long).contiguous()\n",
    "data = Data(num_nodes=num_nodes, edge_index=edge_index).to(device)\n",
    "data.edge_weight = torch.ones(len(all_df)).contiguous()\n",
    "\n",
    "data"
   ]
  },
  {
   "cell_type": "code",
   "execution_count": null,
   "id": "a907eb9f-1b92-4af9-bfa7-c545e7903812",
   "metadata": {
    "tags": []
   },
   "outputs": [],
   "source": []
  },
  {
   "cell_type": "code",
   "execution_count": 8,
   "id": "b4dba656-ed04-4d25-9fb8-74db2c055586",
   "metadata": {
    "tags": []
   },
   "outputs": [],
   "source": [
    "from typing import Optional, Union\n",
    "\n",
    "import torch\n",
    "import torch.nn.functional as F\n",
    "from torch import Tensor\n",
    "from torch.nn import Embedding, ModuleList\n",
    "from torch.nn.modules.loss import _Loss\n",
    "from torch_geometric.nn.conv import LGConv\n",
    "from torch_geometric.typing import Adj, OptTensor\n",
    "from torch_geometric.utils import is_sparse, to_edge_index\n",
    "\n",
    "\n",
    "class LightGCN(torch.nn.Module):\n",
    "    def __init__(\n",
    "        self,\n",
    "        num_nodes: int,\n",
    "        embedding_dim: int,\n",
    "        num_layers: int,\n",
    "        alpha: Optional[Union[float, Tensor]] = None,\n",
    "        **kwargs,\n",
    "    ):\n",
    "        super().__init__()\n",
    "\n",
    "        self.num_nodes = num_nodes\n",
    "        self.embedding_dim = embedding_dim\n",
    "        self.num_layers = num_layers\n",
    "\n",
    "        if alpha is None:\n",
    "            alpha = 1.0 / (num_layers + 1)\n",
    "\n",
    "        if isinstance(alpha, Tensor):\n",
    "            assert alpha.size(0) == num_layers + 1\n",
    "        else:\n",
    "            alpha = torch.tensor([alpha] * (num_layers + 1))\n",
    "        self.register_buffer(\"alpha\", alpha)\n",
    "\n",
    "        self.embedding = Embedding(num_nodes, embedding_dim)\n",
    "        self.convs = ModuleList([LGConv(**kwargs) for _ in range(num_layers)])\n",
    "\n",
    "        self.reset_parameters()\n",
    "\n",
    "    def reset_parameters(self):\n",
    "        r\"\"\"Resets all learnable parameters of the module.\"\"\"\n",
    "        torch.nn.init.xavier_uniform_(self.embedding.weight)\n",
    "        for conv in self.convs:\n",
    "            conv.reset_parameters()\n",
    "\n",
    "    def get_embedding(\n",
    "        self,\n",
    "        edge_index: Adj,\n",
    "        edge_weight: OptTensor = None,\n",
    "    ) -> Tensor:\n",
    "        r\"\"\"Returns the embedding of nodes in the graph.\"\"\"\n",
    "        x = self.embedding.weight\n",
    "        out = x * self.alpha[0]\n",
    "\n",
    "        for i in range(self.num_layers):\n",
    "            x = self.convs[i](x, edge_index, edge_weight)\n",
    "            out = out + x * self.alpha[i + 1]\n",
    "\n",
    "        return out\n",
    "\n",
    "    def forward(\n",
    "        self,\n",
    "        edge_index: Adj,\n",
    "        edge_label_index: OptTensor = None,\n",
    "        edge_weight: OptTensor = None,\n",
    "    ) -> Tensor:\n",
    "        r\"\"\"Computes rankings for pairs of nodes.\n",
    "\n",
    "        Args:\n",
    "            edge_index (torch.Tensor or SparseTensor): Edge tensor specifying\n",
    "                the connectivity of the graph.\n",
    "            edge_label_index (torch.Tensor, optional): Edge tensor specifying\n",
    "                the node pairs for which to compute rankings or probabilities.\n",
    "                If :obj:`edge_label_index` is set to :obj:`None`, all edges in\n",
    "                :obj:`edge_index` will be used instead. (default: :obj:`None`)\n",
    "            edge_weight (torch.Tensor, optional): The weight of each edge in\n",
    "                :obj:`edge_index`. (default: :obj:`None`)\n",
    "        \"\"\"\n",
    "        if edge_label_index is None:\n",
    "            if is_sparse(edge_index):\n",
    "                edge_label_index, _ = to_edge_index(edge_index)\n",
    "            else:\n",
    "                edge_label_index = edge_index\n",
    "\n",
    "        out = self.get_embedding(edge_index, edge_weight)\n",
    "\n",
    "        out_src = out[edge_label_index[0]]\n",
    "        out_dst = out[edge_label_index[1]]\n",
    "\n",
    "        return (out_src * out_dst).sum(dim=-1)"
   ]
  },
  {
   "cell_type": "code",
   "execution_count": null,
   "id": "65385822-8bad-4548-a8c0-e500cb0521ab",
   "metadata": {},
   "outputs": [],
   "source": []
  },
  {
   "cell_type": "code",
   "execution_count": 22,
   "id": "6b17c9a4-241d-4441-914f-51f9112f9d78",
   "metadata": {
    "tags": []
   },
   "outputs": [
    {
     "name": "stderr",
     "output_type": "stream",
     "text": [
      "/opt/conda/lib/python3.10/site-packages/sklearn/model_selection/_split.py:700: UserWarning: The least populated class in y has only 1 members, which is less than n_splits=5.\n",
      "  warnings.warn(\n"
     ]
    },
    {
     "data": {
      "application/vnd.jupyter.widget-view+json": {
       "model_id": "8489df9cb1c840c69014c0e7cd48793e",
       "version_major": 2,
       "version_minor": 0
      },
      "text/plain": [
       "Fold-1:   0%|          | 0/6 [00:00<?, ?it/s]"
      ]
     },
     "metadata": {},
     "output_type": "display_data"
    },
    {
     "name": "stdout",
     "output_type": "stream",
     "text": [
      "Epoch: 0, Loss: 7.924870014190674, Val Loss: 7.922195911407471\n"
     ]
    },
    {
     "data": {
      "application/vnd.jupyter.widget-view+json": {
       "model_id": "a5a43692e97048b1b7f52ca68f1f3d2f",
       "version_major": 2,
       "version_minor": 0
      },
      "text/plain": [
       "Fold-2:   0%|          | 0/6 [00:00<?, ?it/s]"
      ]
     },
     "metadata": {},
     "output_type": "display_data"
    },
    {
     "name": "stdout",
     "output_type": "stream",
     "text": [
      "Epoch: 0, Loss: 7.922452926635742, Val Loss: 7.931846618652344\n"
     ]
    },
    {
     "data": {
      "application/vnd.jupyter.widget-view+json": {
       "model_id": "50aea870fb5e4fda80dadfa7fbf326c7",
       "version_major": 2,
       "version_minor": 0
      },
      "text/plain": [
       "Fold-3:   0%|          | 0/6 [00:00<?, ?it/s]"
      ]
     },
     "metadata": {},
     "output_type": "display_data"
    },
    {
     "name": "stdout",
     "output_type": "stream",
     "text": [
      "Epoch: 0, Loss: 7.925309181213379, Val Loss: 7.920421600341797\n"
     ]
    },
    {
     "data": {
      "application/vnd.jupyter.widget-view+json": {
       "model_id": "069d4237e1fa48838b126289b7ea4bfd",
       "version_major": 2,
       "version_minor": 0
      },
      "text/plain": [
       "Fold-4:   0%|          | 0/6 [00:00<?, ?it/s]"
      ]
     },
     "metadata": {},
     "output_type": "display_data"
    },
    {
     "name": "stdout",
     "output_type": "stream",
     "text": [
      "Epoch: 0, Loss: 7.922451496124268, Val Loss: 7.931850910186768\n"
     ]
    },
    {
     "data": {
      "application/vnd.jupyter.widget-view+json": {
       "model_id": "f1c8e9b48c96411cbf6422b3a209fb4b",
       "version_major": 2,
       "version_minor": 0
      },
      "text/plain": [
       "Fold-5:   0%|          | 0/6 [00:00<?, ?it/s]"
      ]
     },
     "metadata": {},
     "output_type": "display_data"
    },
    {
     "name": "stdout",
     "output_type": "stream",
     "text": [
      "Epoch: 0, Loss: 7.926576614379883, Val Loss: 7.915343284606934\n"
     ]
    }
   ],
   "source": [
    "import os\n",
    "\n",
    "import torch\n",
    "import torch.nn.functional as F\n",
    "from sklearn.model_selection import StratifiedKFold\n",
    "from tqdm.auto import tqdm\n",
    "\n",
    "\n",
    "def k_fold(num_fold, all_df):\n",
    "    skf = StratifiedKFold(num_fold, shuffle=True, random_state=12345)\n",
    "    train_len = all_df[\"is_train\"].sum()\n",
    "    train_indices, val_indices, test_indices = [], [], []\n",
    "    for _, idx in skf.split(torch.zeros(train_len), all_df.iloc[:train_len][\"user_id\"]):\n",
    "        val_indices.append(torch.from_numpy(idx).to(torch.long))\n",
    "        test_indices.append(torch.tensor(range(train_len, len(all_df))).to(torch.long))\n",
    "\n",
    "    for i in range(num_fold):\n",
    "        train_mask = torch.ones(train_len, dtype=torch.bool)\n",
    "        train_mask[val_indices[i]] = 0\n",
    "        train_indices.append(train_mask.nonzero(as_tuple=False).view(-1))\n",
    "\n",
    "    return train_indices, val_indices, test_indices\n",
    "\n",
    "\n",
    "exp_name = f\"{Path(sys.argv[0]).stem}_{str(uuid.uuid1())[:8]}\"\n",
    "\n",
    "\n",
    "wandb.init(\n",
    "    project=\"atmacup-21\",\n",
    "    name=exp_name,  # {file}_{id}\n",
    "    mode=\"online\" if config.debug is False else \"disabled\",\n",
    "    config=config.train,\n",
    ")\n",
    "\n",
    "oof_pred = np.zeros(len(train_df))\n",
    "test_preds = []\n",
    "\n",
    "for fold, (train_idx, val_idx, test_idx) in enumerate(zip(*k_fold(config.train.num_folds, all_df))):\n",
    "    model = LightGCN(\n",
    "        num_nodes=data.num_nodes,\n",
    "        embedding_dim=config.train.embedding_dim,\n",
    "        num_layers=config.train.num_layers,\n",
    "    ).to(device)\n",
    "    optimizer = torch.optim.Adam(model.parameters(), lr=config.train.lr)\n",
    "    best_val_loss = float(\"inf\")\n",
    "    early_stopping_counter = 0\n",
    "\n",
    "    for epoch in tqdm(range(config.train.num_epochs if config.debug is False else 6), desc=f\"Fold-{fold+1}\"):\n",
    "        model.train()\n",
    "        optimizer.zero_grad()\n",
    "        pred = model(data.edge_index[:, train_idx])\n",
    "        target = torch.tensor(train_df.loc[train_idx.numpy(), \"score\"].to_numpy()).float().to(device)\n",
    "        loss = F.mse_loss(pred, target).sqrt()\n",
    "        optimizer.zero_grad()\n",
    "        loss.backward()\n",
    "        optimizer.step()\n",
    "\n",
    "        # validation\n",
    "        with torch.no_grad():\n",
    "            pred = model(data.edge_index[:, val_idx])\n",
    "            target = torch.tensor(train_df.loc[val_idx.numpy(), \"score\"].to_numpy()).float().to(device)\n",
    "            val_loss = F.mse_loss(pred, target).sqrt()\n",
    "\n",
    "        wandb.log({\"epoch\": epoch, f\"loss/train/fold-{fold}\": loss.item(), f\"loss/valid/fold-{fold}\": val_loss.item()})\n",
    "        if epoch % config.train.early_stopping == 0:\n",
    "            tqdm.write(f\"Epoch: {epoch}, Loss: {loss.item()}, Val Loss: {val_loss.item()}\")\n",
    "\n",
    "        # early stopping\n",
    "        if val_loss < best_val_loss:\n",
    "            best_val_loss = val_loss\n",
    "            torch.save(model.state_dict(), f\"model_best_{fold}.pt\")\n",
    "            early_stopping_counter = 0\n",
    "        else:\n",
    "            early_stopping_counter += 1\n",
    "            if early_stopping_counter >= config.train.early_stopping:\n",
    "                print(\"Early stopping triggered.\")\n",
    "                model.load_state_dict(torch.load(f\"model_best_{fold}.pt\"))\n",
    "                break\n",
    "\n",
    "    # testing\n",
    "    with torch.no_grad():\n",
    "        # Out-of-Fold (OOF) prediction\n",
    "        oof_pred[val_idx.cpu().detach().numpy()] = model(data.edge_index[:, val_idx]).cpu().detach().numpy()\n",
    "\n",
    "        test_pred = model(data.edge_index[:, test_idx]).cpu().detach().numpy()\n",
    "        test_preds.append(test_pred)\n",
    "\n",
    "# calculate mean of predictions across all folds\n",
    "mean_test_preds = np.mean(test_preds, axis=0)\n",
    "wandb.finish()"
   ]
  },
  {
   "cell_type": "code",
   "execution_count": 27,
   "id": "e8151dbf-2c82-40f6-94d6-820297b25afd",
   "metadata": {
    "tags": []
   },
   "outputs": [],
   "source": [
    "sample_submission_df[\"score\"] = mean_test_preds\n",
    "sample_submission_df.to_csv(f\"../output/sub_{exp_name}.csv\", index=False)\n",
    "\n",
    "# データフレームを作成\n",
    "oof_df = pd.DataFrame({\"score\": oof_pred})\n",
    "# CSVファイルとして保存\n",
    "oof_df.to_csv(f\"../output/oof_{exp_name}.csv\", index=False)"
   ]
  },
  {
   "cell_type": "code",
   "execution_count": null,
   "id": "e28b1b3e-e99e-435e-b860-2ea9f9fe145c",
   "metadata": {},
   "outputs": [],
   "source": []
  },
  {
   "cell_type": "code",
   "execution_count": null,
   "id": "192c878a-5f3c-48d9-a548-4b0c3dd24369",
   "metadata": {},
   "outputs": [],
   "source": []
  }
 ],
 "metadata": {
  "kernelspec": {
   "display_name": "Python 3 (ipykernel)",
   "language": "python",
   "name": "python3"
  },
  "language_info": {
   "codemirror_mode": {
    "name": "ipython",
    "version": 3
   },
   "file_extension": ".py",
   "mimetype": "text/x-python",
   "name": "python",
   "nbconvert_exporter": "python",
   "pygments_lexer": "ipython3",
   "version": "3.10.10"
  }
 },
 "nbformat": 4,
 "nbformat_minor": 5
}
