{
 "cells": [
  {
   "cell_type": "code",
   "execution_count": 1,
   "id": "d113a29b-fafd-4c86-8140-414c9506a2c9",
   "metadata": {
    "tags": []
   },
   "outputs": [],
   "source": [
    "import os\n",
    "import random\n",
    "import sys\n",
    "import uuid\n",
    "from pathlib import Path\n",
    "\n",
    "import numpy as np\n",
    "import pandas as pd\n",
    "import torch\n",
    "import torch_geometric\n",
    "import wandb\n",
    "from torch_geometric.data import Data"
   ]
  },
  {
   "cell_type": "code",
   "execution_count": 2,
   "id": "a133eba2-062a-4c56-9cc5-02cf2493a5d9",
   "metadata": {
    "tags": []
   },
   "outputs": [
    {
     "data": {
      "text/plain": [
       "{'debug': False, 'input_path': '../input/atmaCup15_dataset', 'seed': 7, 'train': {'lr': 0.01, 'embedding_dim': 1024, 'num_layers': 3, 'num_epochs': 1000, 'early_stopping': 20, 'num_folds': 5}, 'lgb': {'feats': {'num': ['duration', 'genres', 'user_num', 'aired'], 'cat': ['categorical_label_encoded_with_user'], 'models': ['000_baseline/8d9ed97c']}, 'target_name': 'score', 'num_folds': 5, 'params': {'objective': 'regression', 'metric': 'rmse', 'verbosity': -1, 'boosting_type': 'gbdt', 'learning_rate': 0.05, 'num_leaves': 64, 'min_child_samples': 160, 'max_depth': -1, 'subsample_freq': 0, 'bagging_seed': 0, 'feature_fraction': 0.9, 'bagging_fraction': 0.8, 'reg_alpha': 0.1, 'reg_lambda': 0.1, 'max_bin': 200, 'device': 'gpu'}}, 'combine': {'seen': ['100_lgb/f6a2ff9e'], 'unseen': ['201_stratify/8b996136']}}"
      ]
     },
     "execution_count": 2,
     "metadata": {},
     "output_type": "execute_result"
    }
   ],
   "source": [
    "from hydra import compose, initialize\n",
    "\n",
    "with initialize(config_path=\"../yamls\", version_base=None):\n",
    "    config = compose(config_name=\"config.yaml\")\n",
    "\n",
    "\n",
    "def seed_everything(seed=1234):\n",
    "    random.seed(seed)\n",
    "    os.environ[\"PYTHONHASHSEED\"] = str(seed)\n",
    "    np.random.seed(seed)\n",
    "    torch.manual_seed(seed)\n",
    "    torch.cuda.manual_seed(seed)\n",
    "    torch.backends.cudnn.deterministic = True\n",
    "\n",
    "\n",
    "device = \"cuda\" if torch.cuda.is_available() else \"cpu\"\n",
    "seed_everything(config.seed)\n",
    "config"
   ]
  },
  {
   "cell_type": "code",
   "execution_count": 3,
   "id": "a5587be4-4908-4179-be9b-ffb3c57091f2",
   "metadata": {
    "tags": []
   },
   "outputs": [],
   "source": [
    "train_df = pd.read_csv(Path(config.input_path) / \"train.csv\")\n",
    "test_df = pd.read_csv(Path(config.input_path) / \"test.csv\")\n",
    "\n",
    "sample_submission_df = pd.read_csv(Path(config.input_path) / \"sample_submission.csv\")\n",
    "anime_df = pd.read_csv(Path(config.input_path) / \"anime.csv\")\n",
    "\n",
    "# 整形\n",
    "anime_df[\"genres\"] = anime_df[\"genres\"].str.replace(\" \", \"\")\n",
    "\n",
    "# Merge the train data with the anime meta data\n",
    "all_df = pd.concat([train_df, test_df])\n",
    "all_df = all_df.merge(anime_df, on=\"anime_id\", how=\"left\")"
   ]
  },
  {
   "cell_type": "code",
   "execution_count": 4,
   "id": "bd3752d3-c21a-4361-896e-6938aba918ef",
   "metadata": {
    "tags": []
   },
   "outputs": [
    {
     "data": {
      "text/html": [
       "<div>\n",
       "<style scoped>\n",
       "    .dataframe tbody tr th:only-of-type {\n",
       "        vertical-align: middle;\n",
       "    }\n",
       "\n",
       "    .dataframe tbody tr th {\n",
       "        vertical-align: top;\n",
       "    }\n",
       "\n",
       "    .dataframe thead th {\n",
       "        text-align: right;\n",
       "    }\n",
       "</style>\n",
       "<table border=\"1\" class=\"dataframe\">\n",
       "  <thead>\n",
       "    <tr style=\"text-align: right;\">\n",
       "      <th></th>\n",
       "      <th>user_id</th>\n",
       "      <th>anime_id</th>\n",
       "      <th>score</th>\n",
       "      <th>genres</th>\n",
       "      <th>japanese_name</th>\n",
       "      <th>type</th>\n",
       "      <th>episodes</th>\n",
       "      <th>aired</th>\n",
       "      <th>producers</th>\n",
       "      <th>licensors</th>\n",
       "      <th>studios</th>\n",
       "      <th>source</th>\n",
       "      <th>duration</th>\n",
       "      <th>rating</th>\n",
       "      <th>members</th>\n",
       "      <th>watching</th>\n",
       "      <th>completed</th>\n",
       "      <th>on_hold</th>\n",
       "      <th>dropped</th>\n",
       "      <th>plan_to_watch</th>\n",
       "    </tr>\n",
       "  </thead>\n",
       "  <tbody>\n",
       "    <tr>\n",
       "      <th>0</th>\n",
       "      <td>0008e10fb39e55447333</td>\n",
       "      <td>0669cc0219d468761195</td>\n",
       "      <td>2.0</td>\n",
       "      <td>Action,Adventure,Shounen</td>\n",
       "      <td>ジョジョの奇妙な冒険 黄金の風</td>\n",
       "      <td>TV</td>\n",
       "      <td>39</td>\n",
       "      <td>Oct 6, 2018 to Jul 28, 2019</td>\n",
       "      <td>Warner Bros. Japan, KlockWorx, Medicos Enterta...</td>\n",
       "      <td>VIZ Media</td>\n",
       "      <td>David Production</td>\n",
       "      <td>Manga</td>\n",
       "      <td>23 min. per ep.</td>\n",
       "      <td>R - 17+ (violence &amp; profanity)</td>\n",
       "      <td>542642</td>\n",
       "      <td>64809</td>\n",
       "      <td>383733</td>\n",
       "      <td>10625</td>\n",
       "      <td>5735</td>\n",
       "      <td>77740</td>\n",
       "    </tr>\n",
       "    <tr>\n",
       "      <th>1</th>\n",
       "      <td>0008e10fb39e55447333</td>\n",
       "      <td>111adb8835b8a1a2cf54</td>\n",
       "      <td>10.0</td>\n",
       "      <td>Action,Dementia,Demons,Horror,Supernatural</td>\n",
       "      <td>DEVILMAN crybaby</td>\n",
       "      <td>ONA</td>\n",
       "      <td>10</td>\n",
       "      <td>Jan 5, 2018</td>\n",
       "      <td>Aniplex, Dynamic Planning, Netflix</td>\n",
       "      <td>Unknown</td>\n",
       "      <td>Science SARU</td>\n",
       "      <td>Manga</td>\n",
       "      <td>25 min. per ep.</td>\n",
       "      <td>R+ - Mild Nudity</td>\n",
       "      <td>650309</td>\n",
       "      <td>29665</td>\n",
       "      <td>477257</td>\n",
       "      <td>13336</td>\n",
       "      <td>18054</td>\n",
       "      <td>111997</td>\n",
       "    </tr>\n",
       "    <tr>\n",
       "      <th>2</th>\n",
       "      <td>0008e10fb39e55447333</td>\n",
       "      <td>1fc8683c393432a2f9c7</td>\n",
       "      <td>1.0</td>\n",
       "      <td>Hentai,Yaoi</td>\n",
       "      <td>ぼくのぴこ</td>\n",
       "      <td>OVA</td>\n",
       "      <td>1</td>\n",
       "      <td>Sep 7, 2006</td>\n",
       "      <td>Natural High</td>\n",
       "      <td>Unknown</td>\n",
       "      <td>Sugar Boy, Blue Cat</td>\n",
       "      <td>Original</td>\n",
       "      <td>34 min.</td>\n",
       "      <td>Rx - Hentai</td>\n",
       "      <td>137560</td>\n",
       "      <td>5153</td>\n",
       "      <td>113190</td>\n",
       "      <td>758</td>\n",
       "      <td>9431</td>\n",
       "      <td>9028</td>\n",
       "    </tr>\n",
       "    <tr>\n",
       "      <th>3</th>\n",
       "      <td>0008e10fb39e55447333</td>\n",
       "      <td>2290175205d55e81b197</td>\n",
       "      <td>8.0</td>\n",
       "      <td>Action,SliceofLife,Comedy,Supernatural</td>\n",
       "      <td>モブサイコ100</td>\n",
       "      <td>TV</td>\n",
       "      <td>12</td>\n",
       "      <td>Jul 11, 2016 to Sep 27, 2016</td>\n",
       "      <td>Warner Bros. Japan, KlockWorx, BS Fuji, Hakuho...</td>\n",
       "      <td>Funimation, Crunchyroll</td>\n",
       "      <td>Bones</td>\n",
       "      <td>Web manga</td>\n",
       "      <td>24 min. per ep.</td>\n",
       "      <td>PG-13 - Teens 13 or older</td>\n",
       "      <td>1255830</td>\n",
       "      <td>68041</td>\n",
       "      <td>942402</td>\n",
       "      <td>26125</td>\n",
       "      <td>19213</td>\n",
       "      <td>200049</td>\n",
       "    </tr>\n",
       "    <tr>\n",
       "      <th>4</th>\n",
       "      <td>0008e10fb39e55447333</td>\n",
       "      <td>28f173b60331d5cabb0d</td>\n",
       "      <td>9.0</td>\n",
       "      <td>Comedy,Shounen,Sports</td>\n",
       "      <td>はじめの一歩 -Champion Road-</td>\n",
       "      <td>Special</td>\n",
       "      <td>1</td>\n",
       "      <td>Apr 18, 2003</td>\n",
       "      <td>Unknown</td>\n",
       "      <td>Discotek Media, Geneon Entertainment USA</td>\n",
       "      <td>Madhouse</td>\n",
       "      <td>Manga</td>\n",
       "      <td>1 hr. 30 min.</td>\n",
       "      <td>PG-13 - Teens 13 or older</td>\n",
       "      <td>97346</td>\n",
       "      <td>1565</td>\n",
       "      <td>82189</td>\n",
       "      <td>502</td>\n",
       "      <td>379</td>\n",
       "      <td>12711</td>\n",
       "    </tr>\n",
       "  </tbody>\n",
       "</table>\n",
       "</div>"
      ],
      "text/plain": [
       "                user_id              anime_id  score  \\\n",
       "0  0008e10fb39e55447333  0669cc0219d468761195    2.0   \n",
       "1  0008e10fb39e55447333  111adb8835b8a1a2cf54   10.0   \n",
       "2  0008e10fb39e55447333  1fc8683c393432a2f9c7    1.0   \n",
       "3  0008e10fb39e55447333  2290175205d55e81b197    8.0   \n",
       "4  0008e10fb39e55447333  28f173b60331d5cabb0d    9.0   \n",
       "\n",
       "                                       genres           japanese_name  \\\n",
       "0                    Action,Adventure,Shounen         ジョジョの奇妙な冒険 黄金の風   \n",
       "1  Action,Dementia,Demons,Horror,Supernatural        DEVILMAN crybaby   \n",
       "2                                 Hentai,Yaoi                   ぼくのぴこ   \n",
       "3      Action,SliceofLife,Comedy,Supernatural                モブサイコ100   \n",
       "4                       Comedy,Shounen,Sports  はじめの一歩 -Champion Road-   \n",
       "\n",
       "      type episodes                         aired  \\\n",
       "0       TV       39   Oct 6, 2018 to Jul 28, 2019   \n",
       "1      ONA       10                   Jan 5, 2018   \n",
       "2      OVA        1                   Sep 7, 2006   \n",
       "3       TV       12  Jul 11, 2016 to Sep 27, 2016   \n",
       "4  Special        1                  Apr 18, 2003   \n",
       "\n",
       "                                           producers  \\\n",
       "0  Warner Bros. Japan, KlockWorx, Medicos Enterta...   \n",
       "1                 Aniplex, Dynamic Planning, Netflix   \n",
       "2                                       Natural High   \n",
       "3  Warner Bros. Japan, KlockWorx, BS Fuji, Hakuho...   \n",
       "4                                            Unknown   \n",
       "\n",
       "                                  licensors              studios     source  \\\n",
       "0                                 VIZ Media     David Production      Manga   \n",
       "1                                   Unknown         Science SARU      Manga   \n",
       "2                                   Unknown  Sugar Boy, Blue Cat   Original   \n",
       "3                   Funimation, Crunchyroll                Bones  Web manga   \n",
       "4  Discotek Media, Geneon Entertainment USA             Madhouse      Manga   \n",
       "\n",
       "          duration                          rating  members  watching  \\\n",
       "0  23 min. per ep.  R - 17+ (violence & profanity)   542642     64809   \n",
       "1  25 min. per ep.                R+ - Mild Nudity   650309     29665   \n",
       "2          34 min.                     Rx - Hentai   137560      5153   \n",
       "3  24 min. per ep.       PG-13 - Teens 13 or older  1255830     68041   \n",
       "4    1 hr. 30 min.       PG-13 - Teens 13 or older    97346      1565   \n",
       "\n",
       "   completed  on_hold  dropped  plan_to_watch  \n",
       "0     383733    10625     5735          77740  \n",
       "1     477257    13336    18054         111997  \n",
       "2     113190      758     9431           9028  \n",
       "3     942402    26125    19213         200049  \n",
       "4      82189      502      379          12711  "
      ]
     },
     "execution_count": 4,
     "metadata": {},
     "output_type": "execute_result"
    }
   ],
   "source": [
    "all_df.head()"
   ]
  },
  {
   "cell_type": "code",
   "execution_count": 7,
   "id": "8d82af71-6f2a-471f-afa5-25b2e704364d",
   "metadata": {
    "tags": []
   },
   "outputs": [
    {
     "name": "stdout",
     "output_type": "stream",
     "text": [
      "CPU times: user 1.52 s, sys: 35.6 ms, total: 1.55 s\n",
      "Wall time: 1.55 s\n"
     ]
    }
   ],
   "source": [
    "%%time\n",
    "cols = [\"producers\", \"licensors\", \"studios\"]\n",
    "\n",
    "\n",
    "def sort_and_join(s):\n",
    "    # split by comma, strip whitespace, sort, and rejoin\n",
    "    return \", \".join(sorted(x.strip() for x in s.split(\",\")))\n",
    "\n",
    "\n",
    "for col in cols:\n",
    "    all_df[col] = all_df[col].fillna(\"Undefined\").apply(sort_and_join)"
   ]
  },
  {
   "cell_type": "code",
   "execution_count": null,
   "id": "9c215e40-f0e1-4cff-8954-b80c561a374f",
   "metadata": {
    "tags": []
   },
   "outputs": [],
   "source": []
  },
  {
   "cell_type": "code",
   "execution_count": 30,
   "id": "3a6ad9fe-99aa-4493-9107-b0dfa86ecde1",
   "metadata": {
    "tags": []
   },
   "outputs": [
    {
     "name": "stdout",
     "output_type": "stream",
     "text": [
      "CPU times: user 12.8 ms, sys: 4.05 ms, total: 16.9 ms\n",
      "Wall time: 14.1 ms\n"
     ]
    }
   ],
   "source": [
    "%%time\n",
    "import cuml\n",
    "\n",
    "X = all_df[[\"members\", \"watching\", \"completed\", \"on_hold\", \"dropped\", \"plan_to_watch\"]].head().astype(float)\n",
    "X = (X - X.mean(axis=0)) / X.std(axis=0)\n",
    "X = X.fillna(0)\n",
    "\n",
    "pca = cuml.PCA(n_components=2)\n",
    "Z_pca = pca.fit_transform(X)"
   ]
  },
  {
   "cell_type": "code",
   "execution_count": 32,
   "id": "f37c0846-93bf-4145-9ee2-c0966465ad78",
   "metadata": {
    "tags": []
   },
   "outputs": [
    {
     "data": {
      "text/html": [
       "<div>\n",
       "<style scoped>\n",
       "    .dataframe tbody tr th:only-of-type {\n",
       "        vertical-align: middle;\n",
       "    }\n",
       "\n",
       "    .dataframe tbody tr th {\n",
       "        vertical-align: top;\n",
       "    }\n",
       "\n",
       "    .dataframe thead th {\n",
       "        text-align: right;\n",
       "    }\n",
       "</style>\n",
       "<table border=\"1\" class=\"dataframe\">\n",
       "  <thead>\n",
       "    <tr style=\"text-align: right;\">\n",
       "      <th></th>\n",
       "      <th>members</th>\n",
       "      <th>watching</th>\n",
       "      <th>completed</th>\n",
       "      <th>on_hold</th>\n",
       "      <th>dropped</th>\n",
       "      <th>plan_to_watch</th>\n",
       "    </tr>\n",
       "  </thead>\n",
       "  <tbody>\n",
       "    <tr>\n",
       "      <th>0</th>\n",
       "      <td>0.012571</td>\n",
       "      <td>0.977793</td>\n",
       "      <td>-0.046072</td>\n",
       "      <td>0.033665</td>\n",
       "      <td>-0.599639</td>\n",
       "      <td>-0.057768</td>\n",
       "    </tr>\n",
       "    <tr>\n",
       "      <th>1</th>\n",
       "      <td>0.241801</td>\n",
       "      <td>-0.132055</td>\n",
       "      <td>0.222875</td>\n",
       "      <td>0.290174</td>\n",
       "      <td>0.930575</td>\n",
       "      <td>0.375736</td>\n",
       "    </tr>\n",
       "    <tr>\n",
       "      <th>2</th>\n",
       "      <td>-0.849874</td>\n",
       "      <td>-0.906145</td>\n",
       "      <td>-0.824072</td>\n",
       "      <td>-0.899931</td>\n",
       "      <td>-0.140538</td>\n",
       "      <td>-0.927279</td>\n",
       "    </tr>\n",
       "    <tr>\n",
       "      <th>3</th>\n",
       "      <td>1.530994</td>\n",
       "      <td>1.079860</td>\n",
       "      <td>1.560492</td>\n",
       "      <td>1.500244</td>\n",
       "      <td>1.074541</td>\n",
       "      <td>1.489984</td>\n",
       "    </tr>\n",
       "    <tr>\n",
       "      <th>4</th>\n",
       "      <td>-0.935492</td>\n",
       "      <td>-1.019454</td>\n",
       "      <td>-0.913222</td>\n",
       "      <td>-0.924153</td>\n",
       "      <td>-1.264939</td>\n",
       "      <td>-0.880673</td>\n",
       "    </tr>\n",
       "  </tbody>\n",
       "</table>\n",
       "</div>"
      ],
      "text/plain": [
       "    members  watching  completed   on_hold   dropped  plan_to_watch\n",
       "0  0.012571  0.977793  -0.046072  0.033665 -0.599639      -0.057768\n",
       "1  0.241801 -0.132055   0.222875  0.290174  0.930575       0.375736\n",
       "2 -0.849874 -0.906145  -0.824072 -0.899931 -0.140538      -0.927279\n",
       "3  1.530994  1.079860   1.560492  1.500244  1.074541       1.489984\n",
       "4 -0.935492 -1.019454  -0.913222 -0.924153 -1.264939      -0.880673"
      ]
     },
     "execution_count": 32,
     "metadata": {},
     "output_type": "execute_result"
    }
   ],
   "source": []
  },
  {
   "cell_type": "code",
   "execution_count": 12,
   "id": "866eb020-1236-4646-bdde-8968c5daa0d5",
   "metadata": {
    "tags": []
   },
   "outputs": [
    {
     "data": {
      "text/plain": [
       "100.0"
      ]
     },
     "execution_count": 12,
     "metadata": {},
     "output_type": "execute_result"
    }
   ],
   "source": [
    "partial_ratio(\"KlockWorx, Medicos Entertainment, Shueisha\", \"KlockWorx, Medicos Entertainment, Shueisha\")"
   ]
  },
  {
   "cell_type": "code",
   "execution_count": 9,
   "id": "0e311494-6df1-4e27-80f3-e32f748d4d54",
   "metadata": {
    "tags": []
   },
   "outputs": [
    {
     "name": "stdout",
     "output_type": "stream",
     "text": [
      "CPU times: user 1min 8s, sys: 0 ns, total: 1min 8s\n",
      "Wall time: 1min 8s\n"
     ]
    }
   ],
   "source": [
    "%%time\n",
    "from rapidfuzz.distance import DamerauLevenshtein, Postfix, Prefix\n",
    "from rapidfuzz.fuzz import partial_ratio\n",
    "from rapidfuzz.process import cdist\n",
    "\n",
    "\n",
    "def calculate_csim(df, aggway=\"sum\", scorer=\"prefix\"):\n",
    "    queries = df\n",
    "    if scorer == \"partial\":\n",
    "        score = cdist(queries, queries, scorer=partial_ratio)\n",
    "        result_df = pd.DataFrame(score, index=queries, columns=queries) / 100\n",
    "        result = result_df.to_numpy()\n",
    "        np.fill_diagonal(result, 0.0)  # 自身は0にする\n",
    "    else:\n",
    "        if scorer == \"prefix\":\n",
    "            scorer = Prefix.normalized_distance\n",
    "        elif scorer == \"prefix\":\n",
    "            scorer = Postfix.normalized_distance\n",
    "        else:\n",
    "            scorer = DamerauLevenshtein.normalized_distance\n",
    "        score = cdist(queries, queries, scorer=Prefix.normalized_distance)\n",
    "        result_df = pd.DataFrame(score, index=queries, columns=queries)\n",
    "        result_df = 1 - result_df  # distanceなので反転\n",
    "        result = result_df.to_numpy()\n",
    "        np.fill_diagonal(result, 0.0)  # 自身は0にする\n",
    "    if aggway == \"sum\":\n",
    "        result = np.sum(result, axis=1)\n",
    "    elif aggway == \"mean\":\n",
    "        result = np.mean(result, axis=1)\n",
    "    elif aggway == \"var\":\n",
    "        result = np.var(result, axis=1)\n",
    "    elif aggway == \"max\":\n",
    "        result = np.max(result, axis=1)\n",
    "    return result\n",
    "\n",
    "\n",
    "cdist_dict = all_df.head(100).groupby(\"user_id\")[\"japanese_name\"].transform(calculate_csim, \"sum\", \"partial\")"
   ]
  },
  {
   "cell_type": "code",
   "execution_count": 67,
   "id": "d8b4967c-d835-44c3-9916-5cfec72b5a86",
   "metadata": {
    "tags": []
   },
   "outputs": [
    {
     "data": {
      "text/plain": [
       "0    0.554489\n",
       "1    0.268775\n",
       "2    0.507936\n",
       "3    0.000000\n",
       "4    0.585859\n",
       "Name: japanese_name, dtype: float32"
      ]
     },
     "execution_count": 67,
     "metadata": {},
     "output_type": "execute_result"
    }
   ],
   "source": [
    "cdist_dict"
   ]
  },
  {
   "cell_type": "code",
   "execution_count": null,
   "id": "22f804c6-c31b-4b38-873a-e9a5e18bd8df",
   "metadata": {},
   "outputs": [],
   "source": [
    "# calculate each metric using the pre-calculated cdist\n",
    "def calculate_metric(df, metric):\n",
    "    cdist_result = cdist_dict[df.name]\n",
    "    if metric == \"sum\":\n",
    "        return cdist_result.sum(axis=1)\n",
    "    elif metric == \"mean\":\n",
    "        return cdist_result.mean(axis=1)\n",
    "    elif metric == \"var\":\n",
    "        return cdist_result.var(axis=1)\n",
    "    elif metric == \"max\":\n",
    "        return cdist_result.max(axis=1)\n",
    "    else:\n",
    "        return None\n",
    "\n",
    "\n",
    "for metric in [\"sum\", \"mean\", \"var\", \"max\"]:\n",
    "    anime_df[f\"matched_{metric}\"] = anime_df.groupby(\"user_id\").transform(calculate_metric, metric)"
   ]
  },
  {
   "cell_type": "code",
   "execution_count": 12,
   "id": "53e60c7e-1991-4354-bed5-c5325f26db7f",
   "metadata": {
    "tags": []
   },
   "outputs": [
    {
     "data": {
      "text/html": [
       "<div>\n",
       "<style scoped>\n",
       "    .dataframe tbody tr th:only-of-type {\n",
       "        vertical-align: middle;\n",
       "    }\n",
       "\n",
       "    .dataframe tbody tr th {\n",
       "        vertical-align: top;\n",
       "    }\n",
       "\n",
       "    .dataframe thead th {\n",
       "        text-align: right;\n",
       "    }\n",
       "</style>\n",
       "<table border=\"1\" class=\"dataframe\">\n",
       "  <thead>\n",
       "    <tr style=\"text-align: right;\">\n",
       "      <th></th>\n",
       "      <th>anime_id</th>\n",
       "      <th>genres</th>\n",
       "      <th>japanese_name</th>\n",
       "      <th>type</th>\n",
       "      <th>episodes</th>\n",
       "      <th>aired</th>\n",
       "      <th>producers</th>\n",
       "      <th>licensors</th>\n",
       "      <th>studios</th>\n",
       "      <th>source</th>\n",
       "      <th>duration</th>\n",
       "      <th>rating</th>\n",
       "      <th>members</th>\n",
       "      <th>watching</th>\n",
       "      <th>completed</th>\n",
       "      <th>on_hold</th>\n",
       "      <th>dropped</th>\n",
       "      <th>plan_to_watch</th>\n",
       "    </tr>\n",
       "  </thead>\n",
       "  <tbody>\n",
       "    <tr>\n",
       "      <th>0</th>\n",
       "      <td>000ba7f7e34e107e7544</td>\n",
       "      <td>Comedy, Sci-Fi, Seinen, Slice of Life, Space</td>\n",
       "      <td>宇宙兄弟</td>\n",
       "      <td>TV</td>\n",
       "      <td>99</td>\n",
       "      <td>Apr 1, 2012 to Mar 22, 2014</td>\n",
       "      <td>Aniplex, Dentsu, YTV, Trinity Sound</td>\n",
       "      <td>Sentai Filmworks</td>\n",
       "      <td>A-1 Pictures</td>\n",
       "      <td>Manga</td>\n",
       "      <td>24 min. per ep.</td>\n",
       "      <td>PG-13 - Teens 13 or older</td>\n",
       "      <td>150428</td>\n",
       "      <td>16552</td>\n",
       "      <td>37234</td>\n",
       "      <td>13009</td>\n",
       "      <td>6948</td>\n",
       "      <td>76685</td>\n",
       "    </tr>\n",
       "    <tr>\n",
       "      <th>1</th>\n",
       "      <td>00427279d72064e7fb69</td>\n",
       "      <td>Adventure, Slice of Life, Mystery, Historical,...</td>\n",
       "      <td>蟲師</td>\n",
       "      <td>TV</td>\n",
       "      <td>26</td>\n",
       "      <td>Oct 23, 2005 to Jun 19, 2006</td>\n",
       "      <td>Avex Entertainment, Marvelous, SKY Perfect Wel...</td>\n",
       "      <td>Funimation</td>\n",
       "      <td>Artland</td>\n",
       "      <td>Manga</td>\n",
       "      <td>25 min. per ep.</td>\n",
       "      <td>PG-13 - Teens 13 or older</td>\n",
       "      <td>620736</td>\n",
       "      <td>55482</td>\n",
       "      <td>235371</td>\n",
       "      <td>42786</td>\n",
       "      <td>20017</td>\n",
       "      <td>267080</td>\n",
       "    </tr>\n",
       "    <tr>\n",
       "      <th>2</th>\n",
       "      <td>00444b67aaabdf740a68</td>\n",
       "      <td>Adventure, Slice of Life, Mystery, Historical,...</td>\n",
       "      <td>蟲師 続章</td>\n",
       "      <td>TV</td>\n",
       "      <td>10</td>\n",
       "      <td>Apr 5, 2014 to Jun 21, 2014</td>\n",
       "      <td>Aniplex, Kodansha, Delfi Sound</td>\n",
       "      <td>Aniplex of America</td>\n",
       "      <td>Artland</td>\n",
       "      <td>Manga</td>\n",
       "      <td>24 min. per ep.</td>\n",
       "      <td>PG-13 - Teens 13 or older</td>\n",
       "      <td>226522</td>\n",
       "      <td>12585</td>\n",
       "      <td>113559</td>\n",
       "      <td>6095</td>\n",
       "      <td>2606</td>\n",
       "      <td>91677</td>\n",
       "    </tr>\n",
       "    <tr>\n",
       "      <th>3</th>\n",
       "      <td>00839a3507ab168abe75</td>\n",
       "      <td>Comedy, Ecchi, Fantasy, School</td>\n",
       "      <td>星刻の竜騎士</td>\n",
       "      <td>TV</td>\n",
       "      <td>12</td>\n",
       "      <td>Apr 5, 2014 to Jun 21, 2014</td>\n",
       "      <td>Media Factory, AT-X, Sony Music Communications...</td>\n",
       "      <td>Funimation</td>\n",
       "      <td>C-Station</td>\n",
       "      <td>Light novel</td>\n",
       "      <td>24 min. per ep.</td>\n",
       "      <td>R+ - Mild Nudity</td>\n",
       "      <td>170220</td>\n",
       "      <td>8723</td>\n",
       "      <td>118202</td>\n",
       "      <td>3753</td>\n",
       "      <td>8034</td>\n",
       "      <td>31508</td>\n",
       "    </tr>\n",
       "    <tr>\n",
       "      <th>4</th>\n",
       "      <td>0192331235e110fe4f76</td>\n",
       "      <td>Comedy, Harem, Romance, Sci-Fi, Shounen, Space</td>\n",
       "      <td>天地無用！</td>\n",
       "      <td>TV</td>\n",
       "      <td>26</td>\n",
       "      <td>Apr 2, 1995 to Sep 24, 1995</td>\n",
       "      <td>TV Tokyo, Pioneer LDC</td>\n",
       "      <td>Funimation, Geneon Entertainment USA</td>\n",
       "      <td>AIC</td>\n",
       "      <td>Original</td>\n",
       "      <td>23 min. per ep.</td>\n",
       "      <td>PG-13 - Teens 13 or older</td>\n",
       "      <td>62599</td>\n",
       "      <td>2565</td>\n",
       "      <td>39890</td>\n",
       "      <td>2093</td>\n",
       "      <td>1986</td>\n",
       "      <td>16065</td>\n",
       "    </tr>\n",
       "  </tbody>\n",
       "</table>\n",
       "</div>"
      ],
      "text/plain": [
       "               anime_id                                             genres  \\\n",
       "0  000ba7f7e34e107e7544       Comedy, Sci-Fi, Seinen, Slice of Life, Space   \n",
       "1  00427279d72064e7fb69  Adventure, Slice of Life, Mystery, Historical,...   \n",
       "2  00444b67aaabdf740a68  Adventure, Slice of Life, Mystery, Historical,...   \n",
       "3  00839a3507ab168abe75                     Comedy, Ecchi, Fantasy, School   \n",
       "4  0192331235e110fe4f76     Comedy, Harem, Romance, Sci-Fi, Shounen, Space   \n",
       "\n",
       "  japanese_name type episodes                         aired  \\\n",
       "0          宇宙兄弟   TV       99   Apr 1, 2012 to Mar 22, 2014   \n",
       "1            蟲師   TV       26  Oct 23, 2005 to Jun 19, 2006   \n",
       "2         蟲師 続章   TV       10   Apr 5, 2014 to Jun 21, 2014   \n",
       "3        星刻の竜騎士   TV       12   Apr 5, 2014 to Jun 21, 2014   \n",
       "4         天地無用！   TV       26   Apr 2, 1995 to Sep 24, 1995   \n",
       "\n",
       "                                           producers  \\\n",
       "0                Aniplex, Dentsu, YTV, Trinity Sound   \n",
       "1  Avex Entertainment, Marvelous, SKY Perfect Wel...   \n",
       "2                     Aniplex, Kodansha, Delfi Sound   \n",
       "3  Media Factory, AT-X, Sony Music Communications...   \n",
       "4                              TV Tokyo, Pioneer LDC   \n",
       "\n",
       "                              licensors       studios       source  \\\n",
       "0                      Sentai Filmworks  A-1 Pictures        Manga   \n",
       "1                            Funimation       Artland        Manga   \n",
       "2                    Aniplex of America       Artland        Manga   \n",
       "3                            Funimation     C-Station  Light novel   \n",
       "4  Funimation, Geneon Entertainment USA           AIC     Original   \n",
       "\n",
       "          duration                     rating  members  watching  completed  \\\n",
       "0  24 min. per ep.  PG-13 - Teens 13 or older   150428     16552      37234   \n",
       "1  25 min. per ep.  PG-13 - Teens 13 or older   620736     55482     235371   \n",
       "2  24 min. per ep.  PG-13 - Teens 13 or older   226522     12585     113559   \n",
       "3  24 min. per ep.           R+ - Mild Nudity   170220      8723     118202   \n",
       "4  23 min. per ep.  PG-13 - Teens 13 or older    62599      2565      39890   \n",
       "\n",
       "   on_hold  dropped  plan_to_watch  \n",
       "0    13009     6948          76685  \n",
       "1    42786    20017         267080  \n",
       "2     6095     2606          91677  \n",
       "3     3753     8034          31508  \n",
       "4     2093     1986          16065  "
      ]
     },
     "execution_count": 12,
     "metadata": {},
     "output_type": "execute_result"
    }
   ],
   "source": [
    "anime_df.head()"
   ]
  },
  {
   "cell_type": "code",
   "execution_count": 22,
   "id": "04df9ea4-3364-468c-89fc-a682a3b3b668",
   "metadata": {
    "tags": []
   },
   "outputs": [
    {
     "data": {
      "text/html": [
       "<div>\n",
       "<style scoped>\n",
       "    .dataframe tbody tr th:only-of-type {\n",
       "        vertical-align: middle;\n",
       "    }\n",
       "\n",
       "    .dataframe tbody tr th {\n",
       "        vertical-align: top;\n",
       "    }\n",
       "\n",
       "    .dataframe thead th {\n",
       "        text-align: right;\n",
       "    }\n",
       "</style>\n",
       "<table border=\"1\" class=\"dataframe\">\n",
       "  <thead>\n",
       "    <tr style=\"text-align: right;\">\n",
       "      <th></th>\n",
       "      <th>user_id</th>\n",
       "      <th>anime_id</th>\n",
       "      <th>user_label</th>\n",
       "      <th>anime_label</th>\n",
       "      <th>is_train</th>\n",
       "    </tr>\n",
       "  </thead>\n",
       "  <tbody>\n",
       "    <tr>\n",
       "      <th>254072</th>\n",
       "      <td>ffe85a36cd20500faa58</td>\n",
       "      <td>f508b02efeac8ecb8cc0</td>\n",
       "      <td>1997</td>\n",
       "      <td>2184</td>\n",
       "      <td>False</td>\n",
       "    </tr>\n",
       "    <tr>\n",
       "      <th>254073</th>\n",
       "      <td>ffe85a36cd20500faa58</td>\n",
       "      <td>f5b8ecea3beea4b82d79</td>\n",
       "      <td>1997</td>\n",
       "      <td>3296</td>\n",
       "      <td>False</td>\n",
       "    </tr>\n",
       "    <tr>\n",
       "      <th>254074</th>\n",
       "      <td>ffe85a36cd20500faa58</td>\n",
       "      <td>f6c208226b6b69948053</td>\n",
       "      <td>1997</td>\n",
       "      <td>2427</td>\n",
       "      <td>False</td>\n",
       "    </tr>\n",
       "    <tr>\n",
       "      <th>254075</th>\n",
       "      <td>ffe85a36cd20500faa58</td>\n",
       "      <td>fe67592c312fc1e17745</td>\n",
       "      <td>1997</td>\n",
       "      <td>3380</td>\n",
       "      <td>False</td>\n",
       "    </tr>\n",
       "    <tr>\n",
       "      <th>254076</th>\n",
       "      <td>ffe85a36cd20500faa58</td>\n",
       "      <td>ff73475b68001c5e533d</td>\n",
       "      <td>1997</td>\n",
       "      <td>3900</td>\n",
       "      <td>False</td>\n",
       "    </tr>\n",
       "  </tbody>\n",
       "</table>\n",
       "</div>"
      ],
      "text/plain": [
       "                     user_id              anime_id  user_label  anime_label  \\\n",
       "254072  ffe85a36cd20500faa58  f508b02efeac8ecb8cc0        1997         2184   \n",
       "254073  ffe85a36cd20500faa58  f5b8ecea3beea4b82d79        1997         3296   \n",
       "254074  ffe85a36cd20500faa58  f6c208226b6b69948053        1997         2427   \n",
       "254075  ffe85a36cd20500faa58  fe67592c312fc1e17745        1997         3380   \n",
       "254076  ffe85a36cd20500faa58  ff73475b68001c5e533d        1997         3900   \n",
       "\n",
       "        is_train  \n",
       "254072     False  \n",
       "254073     False  \n",
       "254074     False  \n",
       "254075     False  \n",
       "254076     False  "
      ]
     },
     "execution_count": 22,
     "metadata": {},
     "output_type": "execute_result"
    }
   ],
   "source": []
  },
  {
   "cell_type": "code",
   "execution_count": 7,
   "id": "5c4214e9-cd45-4c40-99ac-ddba37624ee4",
   "metadata": {
    "tags": []
   },
   "outputs": [
    {
     "data": {
      "text/plain": [
       "Data(edge_index=[2, 254077], num_nodes=3954, edge_weight=[254077])"
      ]
     },
     "execution_count": 7,
     "metadata": {},
     "output_type": "execute_result"
    }
   ],
   "source": [
    "edges = all_df[[\"user_label\", \"anime_label\"]].to_numpy()\n",
    "edge_index = torch.tensor(edges.T, dtype=torch.long).contiguous()\n",
    "data = Data(num_nodes=num_nodes, edge_index=edge_index).to(device)\n",
    "data.edge_weight = torch.ones(len(all_df)).contiguous()\n",
    "\n",
    "data"
   ]
  },
  {
   "cell_type": "code",
   "execution_count": null,
   "id": "a907eb9f-1b92-4af9-bfa7-c545e7903812",
   "metadata": {
    "tags": []
   },
   "outputs": [],
   "source": []
  },
  {
   "cell_type": "code",
   "execution_count": 8,
   "id": "b4dba656-ed04-4d25-9fb8-74db2c055586",
   "metadata": {
    "tags": []
   },
   "outputs": [],
   "source": [
    "from typing import Optional, Union\n",
    "\n",
    "import torch\n",
    "import torch.nn.functional as F\n",
    "from torch import Tensor\n",
    "from torch.nn import Embedding, ModuleList\n",
    "from torch.nn.modules.loss import _Loss\n",
    "from torch_geometric.nn.conv import LGConv\n",
    "from torch_geometric.typing import Adj, OptTensor\n",
    "from torch_geometric.utils import is_sparse, to_edge_index\n",
    "\n",
    "\n",
    "class LightGCN(torch.nn.Module):\n",
    "    def __init__(\n",
    "        self,\n",
    "        num_nodes: int,\n",
    "        embedding_dim: int,\n",
    "        num_layers: int,\n",
    "        alpha: Optional[Union[float, Tensor]] = None,\n",
    "        **kwargs,\n",
    "    ):\n",
    "        super().__init__()\n",
    "\n",
    "        self.num_nodes = num_nodes\n",
    "        self.embedding_dim = embedding_dim\n",
    "        self.num_layers = num_layers\n",
    "\n",
    "        if alpha is None:\n",
    "            alpha = 1.0 / (num_layers + 1)\n",
    "\n",
    "        if isinstance(alpha, Tensor):\n",
    "            assert alpha.size(0) == num_layers + 1\n",
    "        else:\n",
    "            alpha = torch.tensor([alpha] * (num_layers + 1))\n",
    "        self.register_buffer(\"alpha\", alpha)\n",
    "\n",
    "        self.embedding = Embedding(num_nodes, embedding_dim)\n",
    "        self.convs = ModuleList([LGConv(**kwargs) for _ in range(num_layers)])\n",
    "\n",
    "        self.reset_parameters()\n",
    "\n",
    "    def reset_parameters(self):\n",
    "        r\"\"\"Resets all learnable parameters of the module.\"\"\"\n",
    "        torch.nn.init.xavier_uniform_(self.embedding.weight)\n",
    "        for conv in self.convs:\n",
    "            conv.reset_parameters()\n",
    "\n",
    "    def get_embedding(\n",
    "        self,\n",
    "        edge_index: Adj,\n",
    "        edge_weight: OptTensor = None,\n",
    "    ) -> Tensor:\n",
    "        r\"\"\"Returns the embedding of nodes in the graph.\"\"\"\n",
    "        x = self.embedding.weight\n",
    "        out = x * self.alpha[0]\n",
    "\n",
    "        for i in range(self.num_layers):\n",
    "            x = self.convs[i](x, edge_index, edge_weight)\n",
    "            out = out + x * self.alpha[i + 1]\n",
    "\n",
    "        return out\n",
    "\n",
    "    def forward(\n",
    "        self,\n",
    "        edge_index: Adj,\n",
    "        edge_label_index: OptTensor = None,\n",
    "        edge_weight: OptTensor = None,\n",
    "    ) -> Tensor:\n",
    "        r\"\"\"Computes rankings for pairs of nodes.\n",
    "\n",
    "        Args:\n",
    "            edge_index (torch.Tensor or SparseTensor): Edge tensor specifying\n",
    "                the connectivity of the graph.\n",
    "            edge_label_index (torch.Tensor, optional): Edge tensor specifying\n",
    "                the node pairs for which to compute rankings or probabilities.\n",
    "                If :obj:`edge_label_index` is set to :obj:`None`, all edges in\n",
    "                :obj:`edge_index` will be used instead. (default: :obj:`None`)\n",
    "            edge_weight (torch.Tensor, optional): The weight of each edge in\n",
    "                :obj:`edge_index`. (default: :obj:`None`)\n",
    "        \"\"\"\n",
    "        if edge_label_index is None:\n",
    "            if is_sparse(edge_index):\n",
    "                edge_label_index, _ = to_edge_index(edge_index)\n",
    "            else:\n",
    "                edge_label_index = edge_index\n",
    "\n",
    "        out = self.get_embedding(edge_index, edge_weight)\n",
    "\n",
    "        out_src = out[edge_label_index[0]]\n",
    "        out_dst = out[edge_label_index[1]]\n",
    "\n",
    "        return (out_src * out_dst).sum(dim=-1)"
   ]
  },
  {
   "cell_type": "code",
   "execution_count": null,
   "id": "65385822-8bad-4548-a8c0-e500cb0521ab",
   "metadata": {},
   "outputs": [],
   "source": []
  },
  {
   "cell_type": "code",
   "execution_count": 22,
   "id": "6b17c9a4-241d-4441-914f-51f9112f9d78",
   "metadata": {
    "tags": []
   },
   "outputs": [
    {
     "name": "stderr",
     "output_type": "stream",
     "text": [
      "/opt/conda/lib/python3.10/site-packages/sklearn/model_selection/_split.py:700: UserWarning: The least populated class in y has only 1 members, which is less than n_splits=5.\n",
      "  warnings.warn(\n"
     ]
    },
    {
     "data": {
      "application/vnd.jupyter.widget-view+json": {
       "model_id": "8489df9cb1c840c69014c0e7cd48793e",
       "version_major": 2,
       "version_minor": 0
      },
      "text/plain": [
       "Fold-1:   0%|          | 0/6 [00:00<?, ?it/s]"
      ]
     },
     "metadata": {},
     "output_type": "display_data"
    },
    {
     "name": "stdout",
     "output_type": "stream",
     "text": [
      "Epoch: 0, Loss: 7.924870014190674, Val Loss: 7.922195911407471\n"
     ]
    },
    {
     "data": {
      "application/vnd.jupyter.widget-view+json": {
       "model_id": "a5a43692e97048b1b7f52ca68f1f3d2f",
       "version_major": 2,
       "version_minor": 0
      },
      "text/plain": [
       "Fold-2:   0%|          | 0/6 [00:00<?, ?it/s]"
      ]
     },
     "metadata": {},
     "output_type": "display_data"
    },
    {
     "name": "stdout",
     "output_type": "stream",
     "text": [
      "Epoch: 0, Loss: 7.922452926635742, Val Loss: 7.931846618652344\n"
     ]
    },
    {
     "data": {
      "application/vnd.jupyter.widget-view+json": {
       "model_id": "50aea870fb5e4fda80dadfa7fbf326c7",
       "version_major": 2,
       "version_minor": 0
      },
      "text/plain": [
       "Fold-3:   0%|          | 0/6 [00:00<?, ?it/s]"
      ]
     },
     "metadata": {},
     "output_type": "display_data"
    },
    {
     "name": "stdout",
     "output_type": "stream",
     "text": [
      "Epoch: 0, Loss: 7.925309181213379, Val Loss: 7.920421600341797\n"
     ]
    },
    {
     "data": {
      "application/vnd.jupyter.widget-view+json": {
       "model_id": "069d4237e1fa48838b126289b7ea4bfd",
       "version_major": 2,
       "version_minor": 0
      },
      "text/plain": [
       "Fold-4:   0%|          | 0/6 [00:00<?, ?it/s]"
      ]
     },
     "metadata": {},
     "output_type": "display_data"
    },
    {
     "name": "stdout",
     "output_type": "stream",
     "text": [
      "Epoch: 0, Loss: 7.922451496124268, Val Loss: 7.931850910186768\n"
     ]
    },
    {
     "data": {
      "application/vnd.jupyter.widget-view+json": {
       "model_id": "f1c8e9b48c96411cbf6422b3a209fb4b",
       "version_major": 2,
       "version_minor": 0
      },
      "text/plain": [
       "Fold-5:   0%|          | 0/6 [00:00<?, ?it/s]"
      ]
     },
     "metadata": {},
     "output_type": "display_data"
    },
    {
     "name": "stdout",
     "output_type": "stream",
     "text": [
      "Epoch: 0, Loss: 7.926576614379883, Val Loss: 7.915343284606934\n"
     ]
    }
   ],
   "source": [
    "import os\n",
    "\n",
    "import torch\n",
    "import torch.nn.functional as F\n",
    "from sklearn.model_selection import StratifiedKFold\n",
    "from tqdm.auto import tqdm\n",
    "\n",
    "\n",
    "def k_fold(num_fold, all_df):\n",
    "    skf = StratifiedKFold(num_fold, shuffle=True, random_state=12345)\n",
    "    train_len = all_df[\"is_train\"].sum()\n",
    "    train_indices, val_indices, test_indices = [], [], []\n",
    "    for _, idx in skf.split(torch.zeros(train_len), all_df.iloc[:train_len][\"user_id\"]):\n",
    "        val_indices.append(torch.from_numpy(idx).to(torch.long))\n",
    "        test_indices.append(torch.tensor(range(train_len, len(all_df))).to(torch.long))\n",
    "\n",
    "    for i in range(num_fold):\n",
    "        train_mask = torch.ones(train_len, dtype=torch.bool)\n",
    "        train_mask[val_indices[i]] = 0\n",
    "        train_indices.append(train_mask.nonzero(as_tuple=False).view(-1))\n",
    "\n",
    "    return train_indices, val_indices, test_indices\n",
    "\n",
    "\n",
    "exp_name = f\"{Path(sys.argv[0]).stem}_{str(uuid.uuid1())[:8]}\"\n",
    "\n",
    "\n",
    "wandb.init(\n",
    "    project=\"atmacup-21\",\n",
    "    name=exp_name,  # {file}_{id}\n",
    "    mode=\"online\" if config.debug is False else \"disabled\",\n",
    "    config=config.train,\n",
    ")\n",
    "\n",
    "oof_pred = np.zeros(len(train_df))\n",
    "test_preds = []\n",
    "\n",
    "for fold, (train_idx, val_idx, test_idx) in enumerate(zip(*k_fold(config.train.num_folds, all_df))):\n",
    "    model = LightGCN(\n",
    "        num_nodes=data.num_nodes,\n",
    "        embedding_dim=config.train.embedding_dim,\n",
    "        num_layers=config.train.num_layers,\n",
    "    ).to(device)\n",
    "    optimizer = torch.optim.Adam(model.parameters(), lr=config.train.lr)\n",
    "    best_val_loss = float(\"inf\")\n",
    "    early_stopping_counter = 0\n",
    "\n",
    "    for epoch in tqdm(range(config.train.num_epochs if config.debug is False else 6), desc=f\"Fold-{fold+1}\"):\n",
    "        model.train()\n",
    "        optimizer.zero_grad()\n",
    "        pred = model(data.edge_index[:, train_idx])\n",
    "        target = torch.tensor(train_df.loc[train_idx.numpy(), \"score\"].to_numpy()).float().to(device)\n",
    "        loss = F.mse_loss(pred, target).sqrt()\n",
    "        optimizer.zero_grad()\n",
    "        loss.backward()\n",
    "        optimizer.step()\n",
    "\n",
    "        # validation\n",
    "        with torch.no_grad():\n",
    "            pred = model(data.edge_index[:, val_idx])\n",
    "            target = torch.tensor(train_df.loc[val_idx.numpy(), \"score\"].to_numpy()).float().to(device)\n",
    "            val_loss = F.mse_loss(pred, target).sqrt()\n",
    "\n",
    "        wandb.log({\"epoch\": epoch, f\"loss/train/fold-{fold}\": loss.item(), f\"loss/valid/fold-{fold}\": val_loss.item()})\n",
    "        if epoch % config.train.early_stopping == 0:\n",
    "            tqdm.write(f\"Epoch: {epoch}, Loss: {loss.item()}, Val Loss: {val_loss.item()}\")\n",
    "\n",
    "        # early stopping\n",
    "        if val_loss < best_val_loss:\n",
    "            best_val_loss = val_loss\n",
    "            torch.save(model.state_dict(), f\"model_best_{fold}.pt\")\n",
    "            early_stopping_counter = 0\n",
    "        else:\n",
    "            early_stopping_counter += 1\n",
    "            if early_stopping_counter >= config.train.early_stopping:\n",
    "                print(\"Early stopping triggered.\")\n",
    "                model.load_state_dict(torch.load(f\"model_best_{fold}.pt\"))\n",
    "                break\n",
    "\n",
    "    # testing\n",
    "    with torch.no_grad():\n",
    "        # Out-of-Fold (OOF) prediction\n",
    "        oof_pred[val_idx.cpu().detach().numpy()] = model(data.edge_index[:, val_idx]).cpu().detach().numpy()\n",
    "\n",
    "        test_pred = model(data.edge_index[:, test_idx]).cpu().detach().numpy()\n",
    "        test_preds.append(test_pred)\n",
    "\n",
    "# calculate mean of predictions across all folds\n",
    "mean_test_preds = np.mean(test_preds, axis=0)\n",
    "wandb.finish()"
   ]
  },
  {
   "cell_type": "code",
   "execution_count": 27,
   "id": "e8151dbf-2c82-40f6-94d6-820297b25afd",
   "metadata": {
    "tags": []
   },
   "outputs": [],
   "source": [
    "sample_submission_df[\"score\"] = mean_test_preds\n",
    "sample_submission_df.to_csv(f\"../output/sub_{exp_name}.csv\", index=False)\n",
    "\n",
    "# データフレームを作成\n",
    "oof_df = pd.DataFrame({\"score\": oof_pred})\n",
    "# CSVファイルとして保存\n",
    "oof_df.to_csv(f\"../output/oof_{exp_name}.csv\", index=False)"
   ]
  },
  {
   "cell_type": "code",
   "execution_count": null,
   "id": "e28b1b3e-e99e-435e-b860-2ea9f9fe145c",
   "metadata": {},
   "outputs": [],
   "source": []
  },
  {
   "cell_type": "code",
   "execution_count": null,
   "id": "192c878a-5f3c-48d9-a548-4b0c3dd24369",
   "metadata": {},
   "outputs": [],
   "source": []
  }
 ],
 "metadata": {
  "kernelspec": {
   "display_name": "Python 3 (ipykernel)",
   "language": "python",
   "name": "python3"
  },
  "language_info": {
   "codemirror_mode": {
    "name": "ipython",
    "version": 3
   },
   "file_extension": ".py",
   "mimetype": "text/x-python",
   "name": "python",
   "nbconvert_exporter": "python",
   "pygments_lexer": "ipython3",
   "version": "3.10.10"
  }
 },
 "nbformat": 4,
 "nbformat_minor": 5
}
